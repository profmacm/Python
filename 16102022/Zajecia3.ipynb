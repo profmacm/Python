{
  "nbformat": 4,
  "nbformat_minor": 0,
  "metadata": {
    "colab": {
      "provenance": [],
      "collapsed_sections": []
    },
    "kernelspec": {
      "name": "python3",
      "display_name": "Python 3"
    },
    "language_info": {
      "name": "python"
    }
  },
  "cells": [
    {
      "cell_type": "code",
      "execution_count": 1,
      "metadata": {
        "id": "y8cSAKzlZa6Y"
      },
      "outputs": [],
      "source": [
        "krotka = (\"Witaj\", \"Świecie\")"
      ]
    },
    {
      "cell_type": "code",
      "source": [
        "print(krotka)"
      ],
      "metadata": {
        "colab": {
          "base_uri": "https://localhost:8080/"
        },
        "id": "RpqHWuMNcEHW",
        "outputId": "39a90b0e-9fe5-4bea-a4f6-f58cbb95655b"
      },
      "execution_count": 9,
      "outputs": [
        {
          "output_type": "stream",
          "name": "stdout",
          "text": [
            "('Witaj', 'Świecie')\n"
          ]
        }
      ]
    },
    {
      "cell_type": "code",
      "source": [
        "lista = [\"Witaj\", \"Świecie\"]"
      ],
      "metadata": {
        "id": "Gt9f0-rIcwK1"
      },
      "execution_count": 8,
      "outputs": []
    },
    {
      "cell_type": "code",
      "source": [
        "lista[0] = \"Cześć\""
      ],
      "metadata": {
        "id": "7e73I3KkdDzT"
      },
      "execution_count": 12,
      "outputs": []
    },
    {
      "cell_type": "code",
      "source": [
        "print(lista)\n",
        "lista.append(\"!\")\n",
        "print(lista)"
      ],
      "metadata": {
        "colab": {
          "base_uri": "https://localhost:8080/"
        },
        "id": "bre_hwV_dO9p",
        "outputId": "72f3784b-3cb2-444a-8cde-e0eeec719624"
      },
      "execution_count": 14,
      "outputs": [
        {
          "output_type": "stream",
          "name": "stdout",
          "text": [
            "['Cześć', 'Świecie']\n",
            "['Cześć', 'Świecie', '!']\n"
          ]
        }
      ]
    },
    {
      "cell_type": "code",
      "source": [
        "lista2 = [1, 2, 3, 4, 5, 6, 7]\n",
        "print(lista2[-3:])"
      ],
      "metadata": {
        "colab": {
          "base_uri": "https://localhost:8080/"
        },
        "id": "uAlSBXt3dnGj",
        "outputId": "445a1be9-5d7f-474b-ffd1-02728c644a82"
      },
      "execution_count": 19,
      "outputs": [
        {
          "output_type": "stream",
          "name": "stdout",
          "text": [
            "[5, 6, 7]\n"
          ]
        }
      ]
    },
    {
      "cell_type": "code",
      "source": [
        "slownik = {\"niebieski\":\"blue\", \"czerwony\": \"red\", \"zielony\": \"green\"}"
      ],
      "metadata": {
        "id": "BQshC8CpeYav"
      },
      "execution_count": 20,
      "outputs": []
    },
    {
      "cell_type": "code",
      "source": [
        "slownik[\"zielony\"]"
      ],
      "metadata": {
        "colab": {
          "base_uri": "https://localhost:8080/",
          "height": 35
        },
        "id": "bT-BPZfXeqUB",
        "outputId": "8f7b9bba-cc34-474a-a2b7-c3444a5726f5"
      },
      "execution_count": 21,
      "outputs": [
        {
          "output_type": "execute_result",
          "data": {
            "text/plain": [
              "'green'"
            ],
            "application/vnd.google.colaboratory.intrinsic+json": {
              "type": "string"
            }
          },
          "metadata": {},
          "execution_count": 21
        }
      ]
    },
    {
      "cell_type": "code",
      "source": [
        "#if warunek:\n",
        "#  # czynność\n",
        "#elif warunek2:\n",
        "#  # czynność\n",
        "#else:\n",
        "#  # czynność inna"
      ],
      "metadata": {
        "id": "FuJDotWge_7p"
      },
      "execution_count": null,
      "outputs": []
    },
    {
      "cell_type": "code",
      "source": [
        "x = 4\n",
        "if x % 2 == 0:\n",
        "  print(\"Liczba jest parzysta\")\n",
        "else:\n",
        "  print(\"Liczba jest nieparzysta\")"
      ],
      "metadata": {
        "colab": {
          "base_uri": "https://localhost:8080/"
        },
        "id": "GlQBxlqyfgEg",
        "outputId": "8a34bd81-ede4-4843-9300-c98e273f6da7"
      },
      "execution_count": 23,
      "outputs": [
        {
          "output_type": "stream",
          "name": "stdout",
          "text": [
            "Liczba jest parzysta\n"
          ]
        }
      ]
    },
    {
      "cell_type": "code",
      "source": [
        "def czy_parzysta(x):\n",
        "  if x % 2 == 0:\n",
        "    print(f\"Liczba {x} jest parzysta\")\n",
        "  else:\n",
        "    print(f\"Liczba {x} jest nieparzysta\")"
      ],
      "metadata": {
        "id": "yMVg4JokgGnY"
      },
      "execution_count": 26,
      "outputs": []
    },
    {
      "cell_type": "code",
      "source": [
        "czy_parzysta(10)\n",
        "czy_parzysta(5)\n",
        "czy_parzysta(123)"
      ],
      "metadata": {
        "colab": {
          "base_uri": "https://localhost:8080/"
        },
        "id": "TR1IPxRzgwHt",
        "outputId": "0d72e427-780e-4a81-cd50-db3405b79e81"
      },
      "execution_count": 27,
      "outputs": [
        {
          "output_type": "stream",
          "name": "stdout",
          "text": [
            "Liczba 10 jest parzysta\n",
            "Liczba 5 jest nieparzysta\n",
            "Liczba 123 jest nieparzysta\n"
          ]
        }
      ]
    },
    {
      "cell_type": "code",
      "source": [
        "liczba = input(\"Proszę wprowadzić liczbę:\")\n",
        "print(f\"Wprowadzona liczba {liczba}\")"
      ],
      "metadata": {
        "colab": {
          "base_uri": "https://localhost:8080/"
        },
        "id": "d1jg_MdPhksA",
        "outputId": "93a9b32f-a4b8-4be4-c617-ae6c81a8b148"
      },
      "execution_count": 28,
      "outputs": [
        {
          "output_type": "stream",
          "name": "stdout",
          "text": [
            "Proszę wprowadzić liczbę:5\n",
            "Wprowadzona liczba 5\n"
          ]
        }
      ]
    },
    {
      "cell_type": "code",
      "source": [
        "zmienna_glob = 10\n",
        "def mnoz_2(a, b):\n",
        "  c = a*b*zmienna_glob\n",
        "  return c"
      ],
      "metadata": {
        "id": "05gYx5NZiiUs"
      },
      "execution_count": 33,
      "outputs": []
    },
    {
      "cell_type": "code",
      "source": [
        "zmienna_glob = 5\n",
        "wynik = mnoz_2(2, 3)"
      ],
      "metadata": {
        "id": "ugtgFxRUiwRW"
      },
      "execution_count": 37,
      "outputs": []
    },
    {
      "cell_type": "code",
      "source": [
        "print(wynik)"
      ],
      "metadata": {
        "colab": {
          "base_uri": "https://localhost:8080/"
        },
        "id": "SSVOwqLIjDNg",
        "outputId": "4320f633-ca92-407e-c487-aacdb1409e5b"
      },
      "execution_count": 38,
      "outputs": [
        {
          "output_type": "stream",
          "name": "stdout",
          "text": [
            "30\n"
          ]
        }
      ]
    },
    {
      "cell_type": "code",
      "source": [
        "def celsiusz_na_inne(temp):\n",
        "  farenheit = 32 + 1.8*temp\n",
        "  kelvin = temp + 273.15\n",
        "  return farenheit, kelvin"
      ],
      "metadata": {
        "id": "7VBckQibknk8"
      },
      "execution_count": 39,
      "outputs": []
    },
    {
      "cell_type": "code",
      "source": [
        "c = 10.5\n",
        "f, k = celsiusz_na_inne(c)\n",
        "stopnie = celsiusz_na_inne(c)\n",
        "print(f\" Stopnie: {f}, {k}, {stopnie}\")"
      ],
      "metadata": {
        "colab": {
          "base_uri": "https://localhost:8080/"
        },
        "id": "wGWFXKwllFLC",
        "outputId": "b0a66112-17d3-4378-d6a8-431e48e5d8f0"
      },
      "execution_count": 42,
      "outputs": [
        {
          "output_type": "stream",
          "name": "stdout",
          "text": [
            " Stopnie: 50.900000000000006, 283.65, (50.900000000000006, 283.65)\n"
          ]
        }
      ]
    },
    {
      "cell_type": "code",
      "source": [
        "def uczniowie(*args):\n",
        "  print(\"Moi uczniowie to:\")\n",
        "  for name in args:\n",
        "    print(name)"
      ],
      "metadata": {
        "id": "03uRQQ8flmaV"
      },
      "execution_count": 43,
      "outputs": []
    },
    {
      "cell_type": "code",
      "source": [
        "uczniowie(\"Ania\", \"Tomek\", \"Kasia\")\n",
        "uczniowie(\"Jola\", \"Wojtek\")"
      ],
      "metadata": {
        "colab": {
          "base_uri": "https://localhost:8080/"
        },
        "id": "NMA19eZmmT6N",
        "outputId": "50ca8bf4-b66d-49e6-c24b-907bfa4ee867"
      },
      "execution_count": 44,
      "outputs": [
        {
          "output_type": "stream",
          "name": "stdout",
          "text": [
            "Moi uczniowie to:\n",
            "Ania\n",
            "Tomek\n",
            "Kasia\n",
            "Moi uczniowie to:\n",
            "Jola\n",
            "Wojtek\n"
          ]
        }
      ]
    },
    {
      "cell_type": "code",
      "source": [
        "def informacja_o_przedmiocie(**kwargs): \n",
        "  for key  in kwargs.keys():\n",
        "    print(f\"{key} -> {kwargs[key]}\")"
      ],
      "metadata": {
        "id": "dEUHH2WMmoXs"
      },
      "execution_count": 45,
      "outputs": []
    },
    {
      "cell_type": "code",
      "source": [
        "informacja_o_przedmiocie(nazwa = \"python\", liczba_osob=7, liczba_spotkan=10)"
      ],
      "metadata": {
        "colab": {
          "base_uri": "https://localhost:8080/"
        },
        "id": "Db9kBQQXnZay",
        "outputId": "81f1aad8-db25-4048-fa6e-bb8dfe4b5b5b"
      },
      "execution_count": 46,
      "outputs": [
        {
          "output_type": "stream",
          "name": "stdout",
          "text": [
            "nazwa -> python\n",
            "liczba_osob -> 7\n",
            "liczba_spotkan -> 10\n"
          ]
        }
      ]
    },
    {
      "cell_type": "code",
      "source": [
        "def dzien_dobry(a, b, name=\"Zuzia\"):\n",
        "  print(f\"Witaj {name}, {a} + {b} to {a+b}\")"
      ],
      "metadata": {
        "id": "a4z-JGainpDG"
      },
      "execution_count": 52,
      "outputs": []
    },
    {
      "cell_type": "code",
      "source": [
        "\n",
        "dzien_dobry(b = 3, name=\"Wojtek\", a= 1)"
      ],
      "metadata": {
        "colab": {
          "base_uri": "https://localhost:8080/"
        },
        "id": "769KwBDQoKH-",
        "outputId": "93551d1c-975f-49cc-fddb-a9b51c613397"
      },
      "execution_count": 55,
      "outputs": [
        {
          "output_type": "stream",
          "name": "stdout",
          "text": [
            "Witaj Wojtek, 1 + 3 to 4\n"
          ]
        }
      ]
    },
    {
      "cell_type": "code",
      "source": [
        "def podwajanie(x):\n",
        "  return 2*x"
      ],
      "metadata": {
        "id": "scs_K2ASo7qX"
      },
      "execution_count": 56,
      "outputs": []
    },
    {
      "cell_type": "code",
      "source": [
        "def pow2(x):\n",
        "  return x*x"
      ],
      "metadata": {
        "id": "2lNt_IY6rBlb"
      },
      "execution_count": 60,
      "outputs": []
    },
    {
      "cell_type": "code",
      "source": [
        "def zmien_tablice(funkcja, tablica):\n",
        "  wynik = []\n",
        "  for element in tablica:\n",
        "    wynik.append(funkcja(element))\n",
        "\n",
        "  return wynik\n"
      ],
      "metadata": {
        "id": "MeZatX-vqT1G"
      },
      "execution_count": 57,
      "outputs": []
    },
    {
      "cell_type": "code",
      "source": [
        "zmien_tablice(podwajanie, [1, 2, 3, 4, 5])\n",
        "zmien_tablice(pow2, [1,2,3,4,5])"
      ],
      "metadata": {
        "colab": {
          "base_uri": "https://localhost:8080/"
        },
        "id": "DNrY9Y60q3Ld",
        "outputId": "a222dc80-ba0d-4f74-a7da-88a3a62c8c82"
      },
      "execution_count": 61,
      "outputs": [
        {
          "output_type": "execute_result",
          "data": {
            "text/plain": [
              "[1, 4, 9, 16, 25]"
            ]
          },
          "metadata": {},
          "execution_count": 61
        }
      ]
    },
    {
      "cell_type": "code",
      "source": [
        "def zewnetrzna(x):\n",
        "  def wewnetrzna(y):\n",
        "    return x + y\n",
        "  return wewnetrzna"
      ],
      "metadata": {
        "id": "EHk7q5DdroJI"
      },
      "execution_count": 62,
      "outputs": []
    },
    {
      "cell_type": "code",
      "source": [
        "funkcja = zewnetrzna(7)\n",
        "funkcja(5)"
      ],
      "metadata": {
        "colab": {
          "base_uri": "https://localhost:8080/"
        },
        "id": "93-NLoUIr-ME",
        "outputId": "a0d08bf7-88b5-4d2a-db12-da6aa1ea3670"
      },
      "execution_count": 64,
      "outputs": [
        {
          "output_type": "execute_result",
          "data": {
            "text/plain": [
              "12"
            ]
          },
          "metadata": {},
          "execution_count": 64
        }
      ]
    },
    {
      "cell_type": "markdown",
      "source": [],
      "metadata": {
        "id": "MI5F_lygnDmE"
      }
    }
  ]
}