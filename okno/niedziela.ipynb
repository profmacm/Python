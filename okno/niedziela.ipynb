{
  "nbformat": 4,
  "nbformat_minor": 0,
  "metadata": {
    "colab": {
      "name": "niedziela.ipynb",
      "provenance": [],
      "authorship_tag": "ABX9TyMIb8jpM3XJJ/YmY1kOS4lO",
      "include_colab_link": true
    },
    "kernelspec": {
      "name": "python3",
      "display_name": "Python 3"
    },
    "language_info": {
      "name": "python"
    }
  },
  "cells": [
    {
      "cell_type": "markdown",
      "metadata": {
        "id": "view-in-github",
        "colab_type": "text"
      },
      "source": [
        "<a href=\"https://colab.research.google.com/github/rroszczyk/Python/blob/master/okno/niedziela.ipynb\" target=\"_parent\"><img src=\"https://colab.research.google.com/assets/colab-badge.svg\" alt=\"Open In Colab\"/></a>"
      ]
    },
    {
      "cell_type": "code",
      "execution_count": 12,
      "metadata": {
        "colab": {
          "base_uri": "https://localhost:8080/"
        },
        "id": "vsBtUohoRRvD",
        "outputId": "20aa9df9-920e-4282-fc91-5921da25d68b"
      },
      "outputs": [
        {
          "output_type": "stream",
          "name": "stdout",
          "text": [
            "auto: czerwony\n",
            "auto: zielony\n",
            "auto: niebieski\n",
            "****************************************\n",
            "auto: czerwony\n",
            "auto: zielony\n",
            "Ford: niebieski\n",
            "****************************************\n",
            "Fiat: czerwony\n",
            "Fiat: zielony\n",
            "Ford: niebieski\n",
            "****************************************\n",
            "Opel: czerwony\n",
            "Skoda: zielony\n",
            "Ford: niebieski\n"
          ]
        }
      ],
      "source": [
        "class Samochod:\n",
        "  '''\n",
        "  Opis naszej klasy\n",
        "  '''\n",
        "  marka = 'auto'\n",
        "  def __init__(self, kolor, typ):\n",
        "    self.kolor = kolor\n",
        "    typ = typ\n",
        "\n",
        "  def info(self):\n",
        "    print(f\"{self.marka}: {self.kolor}\")\n",
        "\n",
        "auto = Samochod('czerwony', 'osobowy')\n",
        "\n",
        "skoda = Samochod('zielony', 'osobowy')\n",
        "\n",
        "ford = Samochod('niebieski', 'osobowy')\n",
        "\n",
        "auto.info()\n",
        "skoda.info()\n",
        "ford.info()\n",
        "ford.marka = 'Ford'\n",
        "print('*'*40)\n",
        "auto.info()\n",
        "skoda.info()\n",
        "ford.info()\n",
        "\n",
        "Samochod.marka = 'Fiat'\n",
        "print('*'*40)\n",
        "auto.info()\n",
        "skoda.info()\n",
        "ford.info()\n",
        "skoda.marka = 'Skoda'\n",
        "\n",
        "Samochod.marka = 'Opel'\n",
        "print('*'*40)\n",
        "auto.info()\n",
        "skoda.info()\n",
        "ford.info()"
      ]
    },
    {
      "cell_type": "code",
      "source": [
        "dir(skoda)\n",
        "skoda.typ = 'osobowy'\n",
        "dir(skoda)"
      ],
      "metadata": {
        "colab": {
          "base_uri": "https://localhost:8080/"
        },
        "id": "z5Es1Eo3WHWQ",
        "outputId": "f07bf7fb-abcf-4c5c-970f-e8afd3d05e8a"
      },
      "execution_count": 17,
      "outputs": [
        {
          "output_type": "execute_result",
          "data": {
            "text/plain": [
              "['__class__',\n",
              " '__delattr__',\n",
              " '__dict__',\n",
              " '__dir__',\n",
              " '__doc__',\n",
              " '__eq__',\n",
              " '__format__',\n",
              " '__ge__',\n",
              " '__getattribute__',\n",
              " '__gt__',\n",
              " '__hash__',\n",
              " '__init__',\n",
              " '__init_subclass__',\n",
              " '__le__',\n",
              " '__lt__',\n",
              " '__module__',\n",
              " '__ne__',\n",
              " '__new__',\n",
              " '__reduce__',\n",
              " '__reduce_ex__',\n",
              " '__repr__',\n",
              " '__setattr__',\n",
              " '__sizeof__',\n",
              " '__str__',\n",
              " '__subclasshook__',\n",
              " '__weakref__',\n",
              " 'info',\n",
              " 'kolor',\n",
              " 'marka',\n",
              " 'opony',\n",
              " 'typ']"
            ]
          },
          "metadata": {},
          "execution_count": 17
        }
      ]
    },
    {
      "cell_type": "code",
      "source": [
        "Samochod.opony='zimowe'\n",
        "dir(ford)"
      ],
      "metadata": {
        "colab": {
          "base_uri": "https://localhost:8080/"
        },
        "id": "JM5uTMziWfR9",
        "outputId": "4cf0f694-66ad-4392-84ec-8300aae4a8d8"
      },
      "execution_count": 16,
      "outputs": [
        {
          "output_type": "execute_result",
          "data": {
            "text/plain": [
              "['__class__',\n",
              " '__delattr__',\n",
              " '__dict__',\n",
              " '__dir__',\n",
              " '__doc__',\n",
              " '__eq__',\n",
              " '__format__',\n",
              " '__ge__',\n",
              " '__getattribute__',\n",
              " '__gt__',\n",
              " '__hash__',\n",
              " '__init__',\n",
              " '__init_subclass__',\n",
              " '__le__',\n",
              " '__lt__',\n",
              " '__module__',\n",
              " '__ne__',\n",
              " '__new__',\n",
              " '__reduce__',\n",
              " '__reduce_ex__',\n",
              " '__repr__',\n",
              " '__setattr__',\n",
              " '__sizeof__',\n",
              " '__str__',\n",
              " '__subclasshook__',\n",
              " '__weakref__',\n",
              " 'info',\n",
              " 'kolor',\n",
              " 'marka',\n",
              " 'opony']"
            ]
          },
          "metadata": {},
          "execution_count": 16
        }
      ]
    },
    {
      "cell_type": "code",
      "source": [
        "class Osobowy(Samochod):\n",
        "  typ = 'Osobowy'\n",
        "  "
      ],
      "metadata": {
        "id": "FLGZxGt2XCD2"
      },
      "execution_count": 18,
      "outputs": []
    },
    {
      "cell_type": "code",
      "source": [
        "class Samochod:\n",
        "  '''\n",
        "  Opis naszej klasy\n",
        "  '''\n",
        "  marka = 'auto'\n",
        "  def __init__(self, kolor, typ):\n",
        "    '''\n",
        "    Konstruktor obiektu\n",
        "    '''\n",
        "    self.kolor = kolor\n",
        "    typ = typ\n",
        "    self.info()\n",
        "\n",
        "  def __del__(self):\n",
        "    '''\n",
        "    Destruktor obiektu\n",
        "    '''\n",
        "    print(\"Usuwanie obiektu\")\n",
        "\n",
        "  def info(self):\n",
        "    print(f\"{self.marka}: {self.kolor}\")"
      ],
      "metadata": {
        "id": "ZSZluMYBXdbe"
      },
      "execution_count": 24,
      "outputs": []
    },
    {
      "cell_type": "code",
      "source": [
        "auto  = Samochod('czerwony', 'osobowy')\n",
        "auto = 'Auto'"
      ],
      "metadata": {
        "colab": {
          "base_uri": "https://localhost:8080/"
        },
        "id": "4EUWNiOUYAK-",
        "outputId": "421fa954-fb39-4b01-ec7a-2bc6af57ebe7"
      },
      "execution_count": 33,
      "outputs": [
        {
          "output_type": "stream",
          "name": "stdout",
          "text": [
            "auto: czerwony\n",
            "Usuwanie obiektu\n",
            "Usuwanie obiektu\n"
          ]
        }
      ]
    },
    {
      "cell_type": "code",
      "source": [
        "dir()"
      ],
      "metadata": {
        "colab": {
          "base_uri": "https://localhost:8080/"
        },
        "id": "RNLl3HdjYt-1",
        "outputId": "fda38a5b-8a89-46f1-ca17-ef18c027f05b"
      },
      "execution_count": 34,
      "outputs": [
        {
          "output_type": "execute_result",
          "data": {
            "text/plain": [
              "['In',\n",
              " 'Osobowy',\n",
              " 'Out',\n",
              " 'Samochod',\n",
              " '_',\n",
              " '_13',\n",
              " '_14',\n",
              " '_15',\n",
              " '_16',\n",
              " '_17',\n",
              " '_4',\n",
              " '__',\n",
              " '___',\n",
              " '__builtin__',\n",
              " '__builtins__',\n",
              " '__doc__',\n",
              " '__loader__',\n",
              " '__name__',\n",
              " '__package__',\n",
              " '__spec__',\n",
              " '_dh',\n",
              " '_i',\n",
              " '_i1',\n",
              " '_i10',\n",
              " '_i11',\n",
              " '_i12',\n",
              " '_i13',\n",
              " '_i14',\n",
              " '_i15',\n",
              " '_i16',\n",
              " '_i17',\n",
              " '_i18',\n",
              " '_i19',\n",
              " '_i2',\n",
              " '_i20',\n",
              " '_i21',\n",
              " '_i22',\n",
              " '_i23',\n",
              " '_i24',\n",
              " '_i25',\n",
              " '_i26',\n",
              " '_i27',\n",
              " '_i28',\n",
              " '_i29',\n",
              " '_i3',\n",
              " '_i30',\n",
              " '_i31',\n",
              " '_i32',\n",
              " '_i33',\n",
              " '_i34',\n",
              " '_i4',\n",
              " '_i5',\n",
              " '_i6',\n",
              " '_i7',\n",
              " '_i8',\n",
              " '_i9',\n",
              " '_ih',\n",
              " '_ii',\n",
              " '_iii',\n",
              " '_oh',\n",
              " 'auto',\n",
              " 'exit',\n",
              " 'ford',\n",
              " 'get_ipython',\n",
              " 'quit',\n",
              " 'skoda']"
            ]
          },
          "metadata": {},
          "execution_count": 34
        }
      ]
    },
    {
      "cell_type": "code",
      "source": [
        "class Samochod:\n",
        "  def __init__(self):\n",
        "    self.kluczyki = \"Kluczyki do auta\"        \n",
        "    print(\"Produkuje samochód\")\n",
        "\n",
        "  def __enter__(self):\n",
        "    print(\"Rejestruje samochód\")\n",
        "    return self.kluczyki\n",
        "\n",
        "  def __exit__(self, type, value, tb):\n",
        "    print(\"Wyrejestrowywuje samochód\")    \n",
        "    \n",
        "  def __del__(self):\n",
        "    print(\"Złomuje samochod\")"
      ],
      "metadata": {
        "id": "Ef1fhko6ZJ0M"
      },
      "execution_count": 35,
      "outputs": []
    },
    {
      "cell_type": "code",
      "source": [
        "auto = Samochod()\n",
        "del auto"
      ],
      "metadata": {
        "colab": {
          "base_uri": "https://localhost:8080/"
        },
        "id": "R-lPiqRkZSNb",
        "outputId": "b5e42b24-fd90-440f-985d-ed309edbc34b"
      },
      "execution_count": 37,
      "outputs": [
        {
          "output_type": "stream",
          "name": "stdout",
          "text": [
            "Produkuje samochód\n",
            "Złomuje samochod\n"
          ]
        }
      ]
    },
    {
      "cell_type": "code",
      "source": [
        "with Samochod() as kluczyk:\n",
        "  print(kluczyk)\n",
        "\n"
      ],
      "metadata": {
        "colab": {
          "base_uri": "https://localhost:8080/"
        },
        "id": "joYo2CxgZdtA",
        "outputId": "3de3f811-7300-45af-a19a-05e096fb400d"
      },
      "execution_count": 38,
      "outputs": [
        {
          "output_type": "stream",
          "name": "stdout",
          "text": [
            "Produkuje samochód\n",
            "Rejestruje samochód\n",
            "Kluczyki do auta\n",
            "Wyrejestrowywuje samochód\n",
            "Złomuje samochod\n"
          ]
        }
      ]
    },
    {
      "cell_type": "code",
      "source": [
        "class Samochod:\n",
        "  def naprzod(self):\n",
        "    print(\"Samochod jedzie do przodu\")\n",
        "\n",
        "class Okret:\n",
        "  def naprzod(self):\n",
        "    print(\"Okręt płynie do przodu\")"
      ],
      "metadata": {
        "id": "iOFL12zbaWyG"
      },
      "execution_count": 39,
      "outputs": []
    },
    {
      "cell_type": "code",
      "source": [
        "class Auto(Samochod):\n",
        "  pass\n",
        "\n",
        "class Statek(Okret):\n",
        "  pass\n",
        "\n",
        "auto = Auto()\n",
        "statek = Statek()"
      ],
      "metadata": {
        "id": "OdaPzQgUaolX"
      },
      "execution_count": 40,
      "outputs": []
    },
    {
      "cell_type": "code",
      "source": [
        "auto.naprzod()\n",
        "statek.naprzod()"
      ],
      "metadata": {
        "colab": {
          "base_uri": "https://localhost:8080/"
        },
        "id": "tuPKCrt1a1JY",
        "outputId": "8e3504ec-c483-4f9d-e109-5583d42a33cc"
      },
      "execution_count": 41,
      "outputs": [
        {
          "output_type": "stream",
          "name": "stdout",
          "text": [
            "Samochod jedzie do przodu\n",
            "Okręt płynie do przodu\n"
          ]
        }
      ]
    },
    {
      "cell_type": "code",
      "source": [
        "class Amfibia(Samochod, Okret):\n",
        "  def naprzod(self):\n",
        "    print(\"Płynie czy jedzie byle by do przodu\")\n",
        "    Samochod.naprzod(self)\n",
        "    Okret.naprzod(self)\n",
        "\n",
        "amfibia = Amfibia()\n",
        "\n",
        "amfibia.naprzod()  # -> Amfibia.naprzod(amfibia)\n",
        "Amfibia.naprzod(amfibia)"
      ],
      "metadata": {
        "colab": {
          "base_uri": "https://localhost:8080/"
        },
        "id": "WOhulVTHa70N",
        "outputId": "97c90c99-111e-46db-d1ce-deabdab5561f"
      },
      "execution_count": 51,
      "outputs": [
        {
          "output_type": "stream",
          "name": "stdout",
          "text": [
            "Płynie czy jedzie byle by do przodu\n",
            "Samochod jedzie do przodu\n",
            "Okręt płynie do przodu\n",
            "Płynie czy jedzie byle by do przodu\n",
            "Samochod jedzie do przodu\n",
            "Okręt płynie do przodu\n"
          ]
        }
      ]
    },
    {
      "cell_type": "code",
      "source": [
        "isinstance(Okret, object)"
      ],
      "metadata": {
        "colab": {
          "base_uri": "https://localhost:8080/"
        },
        "id": "S_2PPNxAcWsA",
        "outputId": "309a3751-a736-4a9f-8794-16501432b85f"
      },
      "execution_count": 56,
      "outputs": [
        {
          "output_type": "execute_result",
          "data": {
            "text/plain": [
              "True"
            ]
          },
          "metadata": {},
          "execution_count": 56
        }
      ]
    },
    {
      "cell_type": "code",
      "source": [
        "class Kwadrat:\n",
        "  def __init__(self):\n",
        "    self.__wysokosc = 2\n",
        "    self.__szerokosc = 2\n",
        "\n",
        "  def info(self):\n",
        "    print(f'Szerokość {self.__szerokosc}, wysokość {self.__wysokosc}')\n",
        "  \n",
        "  \n",
        "\n",
        "kwadrat = Kwadrat()\n",
        "kwadrat.__wysokosc = 10\n",
        "kwadrat._Kwadrat__szerokosc = 15\n",
        "\n",
        "kwadrat.info()\n",
        "print(f'Wysokość {kwadrat.__wysokosc}')\n",
        "#print(f'Szerokość {kwadrat.__szerokosc}, wysokość {kwadrat.__wysokosc}')"
      ],
      "metadata": {
        "colab": {
          "base_uri": "https://localhost:8080/"
        },
        "id": "QzTSxfbec3Xe",
        "outputId": "dea850a3-2428-451d-dc5e-bc41809f140a"
      },
      "execution_count": 63,
      "outputs": [
        {
          "output_type": "stream",
          "name": "stdout",
          "text": [
            "Szerokość 15, wysokość 2\n",
            "Wysokość 10\n"
          ]
        }
      ]
    }
  ]
}