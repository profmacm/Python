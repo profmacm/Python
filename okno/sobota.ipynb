{
  "nbformat": 4,
  "nbformat_minor": 0,
  "metadata": {
    "colab": {
      "name": "sobota.ipynb",
      "provenance": [],
      "authorship_tag": "ABX9TyMSGQD/rIA/SV0qWRLNlW0i",
      "include_colab_link": true
    },
    "kernelspec": {
      "name": "python3",
      "display_name": "Python 3"
    },
    "language_info": {
      "name": "python"
    }
  },
  "cells": [
    {
      "cell_type": "markdown",
      "metadata": {
        "id": "view-in-github",
        "colab_type": "text"
      },
      "source": [
        "<a href=\"https://colab.research.google.com/github/rroszczyk/Python/blob/master/okno/sobota.ipynb\" target=\"_parent\"><img src=\"https://colab.research.google.com/assets/colab-badge.svg\" alt=\"Open In Colab\"/></a>"
      ]
    },
    {
      "cell_type": "code",
      "execution_count": 6,
      "metadata": {
        "colab": {
          "base_uri": "https://localhost:8080/"
        },
        "id": "qm-AaK7OzJ5y",
        "outputId": "3a1d85dd-06b0-4ba5-b8be-d7ccbc424cc3"
      },
      "outputs": [
        {
          "output_type": "stream",
          "name": "stdout",
          "text": [
            "11256352\n",
            "11256352\n",
            "11256352\n",
            "11256384\n",
            "****************************************\n",
            "<built-in function print>\n",
            "140296873932032\n"
          ]
        }
      ],
      "source": [
        "a = 10\n",
        "b = 10\n",
        "print(id(a))\n",
        "print(id(b))\n",
        "\n",
        "\n",
        "b = 11\n",
        "print(id(a))\n",
        "print(id(b))\n",
        "\n",
        "print(\"*\"*40)\n",
        "\n",
        "print(print)\n",
        "print(id(print))"
      ]
    },
    {
      "cell_type": "code",
      "source": [
        "druk = print\n",
        "\n",
        "druk(\"Ala ma kota\")"
      ],
      "metadata": {
        "colab": {
          "base_uri": "https://localhost:8080/"
        },
        "id": "NQsu1pve4MHL",
        "outputId": "baa0d222-222c-4db9-f921-b89510c06eb9"
      },
      "execution_count": 7,
      "outputs": [
        {
          "output_type": "stream",
          "name": "stdout",
          "text": [
            "Ala ma kota\n"
          ]
        }
      ]
    },
    {
      "cell_type": "code",
      "source": [
        "# print = 100\n",
        "\n",
        "druk(print)"
      ],
      "metadata": {
        "colab": {
          "base_uri": "https://localhost:8080/"
        },
        "id": "GZwUfvJw4SZD",
        "outputId": "8cbda495-435c-4b35-c003-f7ea23a69013"
      },
      "execution_count": 8,
      "outputs": [
        {
          "output_type": "stream",
          "name": "stdout",
          "text": [
            "100\n"
          ]
        }
      ]
    },
    {
      "cell_type": "code",
      "source": [
        "print(\"Ala ma kota\")"
      ],
      "metadata": {
        "colab": {
          "base_uri": "https://localhost:8080/"
        },
        "id": "ILlc3ADe4YNY",
        "outputId": "8c69e542-1ced-41ff-aa2e-aaf642fadc64"
      },
      "execution_count": 2,
      "outputs": [
        {
          "output_type": "stream",
          "name": "stdout",
          "text": [
            "Ala ma kota\n"
          ]
        }
      ]
    },
    {
      "cell_type": "code",
      "source": [
        "print(\"Ala ma kota '''\")\n",
        "print('Ala ma kota \"\"\"')\n",
        "print(\"\"\"\n",
        "Ala\n",
        "ma\n",
        "kota\n",
        "\"\"\")"
      ],
      "metadata": {
        "colab": {
          "base_uri": "https://localhost:8080/"
        },
        "id": "BL_dvLgZ4xTx",
        "outputId": "82357e2c-43ac-4968-8166-2e6b76854662"
      },
      "execution_count": 3,
      "outputs": [
        {
          "output_type": "stream",
          "name": "stdout",
          "text": [
            "Ala ma kota '''\n",
            "Ala ma kota \"\"\"\n",
            "\n",
            "Ala\n",
            "ma\n",
            "kota\n",
            "\n"
          ]
        }
      ]
    },
    {
      "cell_type": "code",
      "source": [
        "\"\"\"\n",
        "To jest jakiś napis\n",
        "\"\"\"\n",
        "\n",
        "print(100 + 100)"
      ],
      "metadata": {
        "colab": {
          "base_uri": "https://localhost:8080/"
        },
        "id": "kjS-5-wA49Pt",
        "outputId": "f0bfae45-cec5-4d7b-f677-bc5b5643627c"
      },
      "execution_count": 4,
      "outputs": [
        {
          "output_type": "stream",
          "name": "stdout",
          "text": [
            "200\n"
          ]
        }
      ]
    },
    {
      "cell_type": "code",
      "source": [
        "lista1 = [\"a\", \"b\", \"c\", \"d\"]\n",
        "\n",
        "print(lista1)\n",
        "\n",
        "print(type(lista1))\n",
        "print(id(lista1))"
      ],
      "metadata": {
        "colab": {
          "base_uri": "https://localhost:8080/"
        },
        "id": "PMufoo2V5Ioe",
        "outputId": "2a4403db-9a1a-41cb-fbc9-2bf38363c262"
      },
      "execution_count": 6,
      "outputs": [
        {
          "output_type": "stream",
          "name": "stdout",
          "text": [
            "['a', 'b', 'c', 'd']\n",
            "<class 'list'>\n",
            "139649025273520\n"
          ]
        }
      ]
    },
    {
      "cell_type": "code",
      "source": [
        "lista1[-1]"
      ],
      "metadata": {
        "colab": {
          "base_uri": "https://localhost:8080/",
          "height": 35
        },
        "id": "lQ_Si43w5ZvA",
        "outputId": "87f94fbe-f8eb-4851-f429-2d1467e360d1"
      },
      "execution_count": 8,
      "outputs": [
        {
          "output_type": "execute_result",
          "data": {
            "text/plain": [
              "'d'"
            ],
            "application/vnd.google.colaboratory.intrinsic+json": {
              "type": "string"
            }
          },
          "metadata": {},
          "execution_count": 8
        }
      ]
    },
    {
      "cell_type": "code",
      "source": [
        "for l in lista1:\n",
        "  print(l, end=\"-\")"
      ],
      "metadata": {
        "colab": {
          "base_uri": "https://localhost:8080/"
        },
        "id": "4cOHX9JZ5kiD",
        "outputId": "5c324c1a-b0c9-4209-bd06-92801c3d036c"
      },
      "execution_count": 10,
      "outputs": [
        {
          "output_type": "stream",
          "name": "stdout",
          "text": [
            "a-b-c-d-"
          ]
        }
      ]
    },
    {
      "cell_type": "code",
      "source": [
        "for i in range(2, 11, 2):\n",
        "  print(i)"
      ],
      "metadata": {
        "colab": {
          "base_uri": "https://localhost:8080/"
        },
        "id": "q5zeZH9O518R",
        "outputId": "28028ad9-ecf6-4d14-b291-c46b6ba01d0e"
      },
      "execution_count": 12,
      "outputs": [
        {
          "output_type": "stream",
          "name": "stdout",
          "text": [
            "2\n",
            "4\n",
            "6\n",
            "8\n",
            "10\n"
          ]
        }
      ]
    },
    {
      "cell_type": "code",
      "source": [
        "print(lista1)\n",
        "\n",
        "lista2 = []\n",
        "for i in range(2, 11, 2):\n",
        "  lista2.append(i)\n",
        "\n",
        "print(lista2)\n",
        "\n",
        "lista3 = lista1 + lista2\n",
        "\n",
        "print(lista3)\n",
        "\n",
        "del lista3[3]\n",
        "\n",
        "print(lista3)\n",
        "\n",
        "lista3.remove('c')\n",
        "\n",
        "print(lista3)"
      ],
      "metadata": {
        "colab": {
          "base_uri": "https://localhost:8080/"
        },
        "id": "U9dZ50fK6Fb8",
        "outputId": "e66077f3-927a-4669-f153-4130c18f3f60"
      },
      "execution_count": 18,
      "outputs": [
        {
          "output_type": "stream",
          "name": "stdout",
          "text": [
            "['a', 'b', 'c', 'd']\n",
            "[2, 4, 6, 8, 10]\n",
            "['a', 'b', 'c', 'd', 2, 4, 6, 8, 10]\n",
            "['a', 'b', 'c', 2, 4, 6, 8, 10]\n",
            "['a', 'b', 2, 4, 6, 8, 10]\n"
          ]
        }
      ]
    },
    {
      "cell_type": "code",
      "source": [
        "t1 = ('a', 'b', 'c', 'd')\n",
        "\n",
        "print(t1)\n",
        "\n",
        "lista4 = list(t1)\n",
        "print(lista4)\n"
      ],
      "metadata": {
        "colab": {
          "base_uri": "https://localhost:8080/"
        },
        "id": "uf0e0wYs6su0",
        "outputId": "2fc9132e-218d-4b06-f718-7cb9c420b602"
      },
      "execution_count": 19,
      "outputs": [
        {
          "output_type": "stream",
          "name": "stdout",
          "text": [
            "('a', 'b', 'c', 'd')\n",
            "['a', 'b', 'c', 'd']\n"
          ]
        }
      ]
    },
    {
      "cell_type": "code",
      "source": [
        "# t1[0] = \"z\"\n",
        "print(t1)\n",
        "\n",
        "lista4[0] = \"z\"\n",
        "print(lista4)\n",
        "print(*lista4)"
      ],
      "metadata": {
        "colab": {
          "base_uri": "https://localhost:8080/"
        },
        "id": "XKzCHWt368EL",
        "outputId": "d36d0df5-a19c-42d0-eeee-c515340ec746"
      },
      "execution_count": 31,
      "outputs": [
        {
          "output_type": "stream",
          "name": "stdout",
          "text": [
            "('a', 'b', 'c', 'd')\n",
            "['z', 'b', 'c', 'd']\n",
            "z b c d\n"
          ]
        }
      ]
    },
    {
      "cell_type": "code",
      "source": [
        "def f():\n",
        "  print(\"To jest wynik działania funkcji\")\n",
        "\n",
        "f()"
      ],
      "metadata": {
        "colab": {
          "base_uri": "https://localhost:8080/"
        },
        "id": "-nkpL52J7LMQ",
        "outputId": "378bbeba-3b31-416e-c6f8-3867a140903f"
      },
      "execution_count": 22,
      "outputs": [
        {
          "output_type": "stream",
          "name": "stdout",
          "text": [
            "To jest wynik działania funkcji\n"
          ]
        }
      ]
    },
    {
      "cell_type": "code",
      "source": [
        "def add(a, b):\n",
        "  return a + b\n",
        "\n",
        "print(add(10, 5))"
      ],
      "metadata": {
        "colab": {
          "base_uri": "https://localhost:8080/"
        },
        "id": "MbQPUXh47WqB",
        "outputId": "022a6137-72ae-4e95-d123-adeecc744289"
      },
      "execution_count": 23,
      "outputs": [
        {
          "output_type": "stream",
          "name": "stdout",
          "text": [
            "15\n"
          ]
        }
      ]
    },
    {
      "cell_type": "code",
      "source": [
        "def add(t, val):\n",
        "  return (*t, val)\n",
        "\n",
        "t1 = ('a', 'b', 'c', 'd')\n",
        "\n",
        "t2 = add(t1, 'z')\n",
        "\n",
        "print(t2)\n",
        "print(len(t2))\n",
        "\n",
        "print(*t2)"
      ],
      "metadata": {
        "colab": {
          "base_uri": "https://localhost:8080/"
        },
        "id": "yGpWER4U7dN4",
        "outputId": "6a875a41-d673-4a01-8d1c-cf80fc812e1a"
      },
      "execution_count": 30,
      "outputs": [
        {
          "output_type": "stream",
          "name": "stdout",
          "text": [
            "('a', 'b', 'c', 'd', 'z')\n",
            "5\n",
            "a b c d z\n"
          ]
        }
      ]
    },
    {
      "cell_type": "code",
      "source": [
        "d = {}\n",
        "\n",
        "print(type(d))\n",
        "\n",
        "d['jeden'] = 1\n",
        "d['dwa'] = 2\n",
        "d['trzy'] = 3\n",
        "\n",
        "print(d)\n"
      ],
      "metadata": {
        "colab": {
          "base_uri": "https://localhost:8080/"
        },
        "id": "bjVzDMmK8aMe",
        "outputId": "6dd522ae-fe9a-48b3-c348-3e675614e1f5"
      },
      "execution_count": 32,
      "outputs": [
        {
          "output_type": "stream",
          "name": "stdout",
          "text": [
            "<class 'dict'>\n",
            "{'jeden': 1, 'dwa': 2, 'trzy': 3}\n"
          ]
        }
      ]
    },
    {
      "cell_type": "code",
      "source": [
        "for k, v in d.items():\n",
        "  print(f\"{k} : {v}\")\n",
        "\n",
        "for k in d.keys():\n",
        "  print(f\"{k} : {d[k]}\")\n",
        "\n",
        "for k in d.keys():\n",
        "  print(f\"{k} : {d.get(k)}\")"
      ],
      "metadata": {
        "colab": {
          "base_uri": "https://localhost:8080/"
        },
        "id": "RTTBN3SR8o7x",
        "outputId": "bf3e10f8-b63d-4b19-e60d-054d18cc0de7"
      },
      "execution_count": 41,
      "outputs": [
        {
          "output_type": "stream",
          "name": "stdout",
          "text": [
            "jeden : 1\n",
            "dwa : 2\n",
            "trzy : 3\n",
            "jeden : 1\n",
            "dwa : 2\n",
            "trzy : 3\n",
            "jeden : 1\n",
            "dwa : 2\n",
            "trzy : 3\n"
          ]
        }
      ]
    },
    {
      "cell_type": "code",
      "source": [
        "def add(a, b):\n",
        "  return a + b\n",
        "\n",
        "def mul(a, b):\n",
        "  return a * b\n",
        "\n",
        "def div(a, b):\n",
        "  return a // b\n",
        "\n",
        "def sub(a, b):\n",
        "  return a - b\n",
        "\n",
        "def calc(op, a, b):\n",
        "  calculator = {\"+\": add, \"*\": mul, \"/\": div, \"-\": sub}\n",
        "\n",
        "  operacja = calculator.get(op)\n",
        "  return f\"operacja: {operacja.__name__}, wynik działania {a} {op} {b} = {operacja(a, b)}\"\n",
        "\n",
        "print(calc(\"+\", 5, 5))\n",
        "print(calc(\"-\", 5, 5))\n",
        "print(calc(\"/\", 5, 5))"
      ],
      "metadata": {
        "colab": {
          "base_uri": "https://localhost:8080/"
        },
        "id": "OzyXA6NV9xAp",
        "outputId": "fcddce9a-7505-4dd7-c3a3-689fba753aba"
      },
      "execution_count": 52,
      "outputs": [
        {
          "output_type": "stream",
          "name": "stdout",
          "text": [
            "operacja: add, wynik działania 5 + 5 = 10\n",
            "operacja: sub, wynik działania 5 - 5 = 0\n",
            "operacja: div, wynik działania 5 / 5 = 1\n"
          ]
        }
      ]
    },
    {
      "cell_type": "code",
      "source": [
        "def add(a, b):\n",
        "  \"\"\"\n",
        "  To jest funkcja dodająca do siebie dwie wartości a oraz b\n",
        "  \"\"\"\n",
        "  return a + b"
      ],
      "metadata": {
        "id": "G5DbpMi3_BEk"
      },
      "execution_count": 45,
      "outputs": []
    },
    {
      "cell_type": "code",
      "source": [
        "print(add.__name__)\n",
        "print(add.__doc__)"
      ],
      "metadata": {
        "colab": {
          "base_uri": "https://localhost:8080/"
        },
        "id": "3lNVqjYG_KVW",
        "outputId": "cb045c5d-6036-497b-a4bd-b640ff49c201"
      },
      "execution_count": 48,
      "outputs": [
        {
          "output_type": "stream",
          "name": "stdout",
          "text": [
            "add\n",
            "\n",
            "  To jest funkcja dodająca do siebie dwie wartości a oraz b\n",
            "  \n"
          ]
        }
      ]
    },
    {
      "cell_type": "code",
      "source": [
        "print(print.__doc__)"
      ],
      "metadata": {
        "colab": {
          "base_uri": "https://localhost:8080/"
        },
        "id": "jXxE0V5G_hD9",
        "outputId": "da709487-96ca-4841-c847-6f88a62b2fb1"
      },
      "execution_count": 49,
      "outputs": [
        {
          "output_type": "stream",
          "name": "stdout",
          "text": [
            "print(value, ..., sep=' ', end='\\n', file=sys.stdout, flush=False)\n",
            "\n",
            "Prints the values to a stream, or to sys.stdout by default.\n",
            "Optional keyword arguments:\n",
            "file:  a file-like object (stream); defaults to the current sys.stdout.\n",
            "sep:   string inserted between values, default a space.\n",
            "end:   string appended after the last value, default a newline.\n",
            "flush: whether to forcibly flush the stream.\n"
          ]
        }
      ]
    },
    {
      "cell_type": "code",
      "source": [
        "lista1 = []\n",
        "lista1.append(1)\n",
        "lista1.append(2)\n",
        "lista1.append(3)\n",
        "\n",
        "lista2 = [1, 2, 3]\n",
        "\n",
        "lista3 = [i*i for i in range(1, 4)]\n",
        "\n",
        "print(lista1)\n",
        "print(lista2)\n",
        "print(lista3)"
      ],
      "metadata": {
        "colab": {
          "base_uri": "https://localhost:8080/"
        },
        "id": "qhp6dD6kARGq",
        "outputId": "bf8bb295-e895-45f5-a505-6c9b646bf62b"
      },
      "execution_count": 55,
      "outputs": [
        {
          "output_type": "stream",
          "name": "stdout",
          "text": [
            "[1, 2, 3]\n",
            "[1, 2, 3]\n",
            "[1, 4, 9]\n"
          ]
        }
      ]
    },
    {
      "cell_type": "code",
      "source": [
        "zwierzeta = [\"pies\", \"kot\", \"słoń\"]\n",
        "\n",
        "moje_zwierzeta = [f\"mój {zwierze}\" for zwierze in zwierzeta]\n",
        "\n",
        "print(moje_zwierzeta)"
      ],
      "metadata": {
        "colab": {
          "base_uri": "https://localhost:8080/"
        },
        "id": "-7NykYDiA8qS",
        "outputId": "e8dab587-763f-4cdf-8d9d-802a060986c4"
      },
      "execution_count": 56,
      "outputs": [
        {
          "output_type": "stream",
          "name": "stdout",
          "text": [
            "['mój pies', 'mój kot', 'mój słoń']\n"
          ]
        }
      ]
    },
    {
      "cell_type": "code",
      "source": [
        "parzyste = [i for i in range(20) if i % 2 == 0]\n",
        "\n",
        "print(parzyste)"
      ],
      "metadata": {
        "colab": {
          "base_uri": "https://localhost:8080/"
        },
        "id": "fyrCyAOCBVzw",
        "outputId": "664075e0-6515-4750-f1ba-a6e5e92fe8bf"
      },
      "execution_count": 58,
      "outputs": [
        {
          "output_type": "stream",
          "name": "stdout",
          "text": [
            "[0, 2, 4, 6, 8, 10, 12, 14, 16, 18]\n"
          ]
        }
      ]
    },
    {
      "cell_type": "code",
      "source": [
        "liczby = [f\"L: {i} parzysta\" if i % 2 == 0 else f\"L: {i} nieparzysta\" for i in range(20)]\n",
        "\n",
        "print(liczby)"
      ],
      "metadata": {
        "colab": {
          "base_uri": "https://localhost:8080/"
        },
        "id": "qoHSAKmdBwxV",
        "outputId": "4fb29503-c015-4072-c587-bbfa608ad52a"
      },
      "execution_count": 59,
      "outputs": [
        {
          "output_type": "stream",
          "name": "stdout",
          "text": [
            "['L: 0 parzysta', 'L: 1 nieparzysta', 'L: 2 parzysta', 'L: 3 nieparzysta', 'L: 4 parzysta', 'L: 5 nieparzysta', 'L: 6 parzysta', 'L: 7 nieparzysta', 'L: 8 parzysta', 'L: 9 nieparzysta', 'L: 10 parzysta', 'L: 11 nieparzysta', 'L: 12 parzysta', 'L: 13 nieparzysta', 'L: 14 parzysta', 'L: 15 nieparzysta', 'L: 16 parzysta', 'L: 17 nieparzysta', 'L: 18 parzysta', 'L: 19 nieparzysta']\n"
          ]
        }
      ]
    },
    {
      "cell_type": "code",
      "source": [
        "\n",
        "\n",
        "kwadrat = lambda x : x * x\n",
        "\n",
        "def kwadrat2(x):\n",
        "  return x * x\n",
        "\n",
        "print(kwadrat(5))\n",
        "print(kwadrat(6))"
      ],
      "metadata": {
        "colab": {
          "base_uri": "https://localhost:8080/"
        },
        "id": "Xl2IueC7CfPN",
        "outputId": "82fad4ea-2579-4497-8f20-83b8047a4431"
      },
      "execution_count": 62,
      "outputs": [
        {
          "output_type": "stream",
          "name": "stdout",
          "text": [
            "25\n",
            "36\n"
          ]
        }
      ]
    },
    {
      "cell_type": "code",
      "source": [
        "parzysta = lambda x : 'TAK' if x % 2 == 0 else 'NIE'\n",
        "\n",
        "print(parzysta(11))\n",
        "print(parzysta(10))"
      ],
      "metadata": {
        "colab": {
          "base_uri": "https://localhost:8080/"
        },
        "id": "WU_AUBuDC0fu",
        "outputId": "5df8132f-e665-4538-eb08-f3afe047e25d"
      },
      "execution_count": 63,
      "outputs": [
        {
          "output_type": "stream",
          "name": "stdout",
          "text": [
            "NIE\n",
            "TAK\n"
          ]
        }
      ]
    },
    {
      "cell_type": "code",
      "source": [
        "listaParzystosci = [parzysta(i) for i in range(20)]\n",
        "\n",
        "print(listaParzystosci)"
      ],
      "metadata": {
        "colab": {
          "base_uri": "https://localhost:8080/"
        },
        "id": "Z0S4QL28DCX9",
        "outputId": "b99d9630-2698-487d-e1c1-5ac2aa570106"
      },
      "execution_count": 66,
      "outputs": [
        {
          "output_type": "stream",
          "name": "stdout",
          "text": [
            "['TAK', 'NIE', 'TAK', 'NIE', 'TAK', 'NIE', 'TAK', 'NIE', 'TAK', 'NIE', 'TAK', 'NIE', 'TAK', 'NIE', 'TAK', 'NIE', 'TAK', 'NIE', 'TAK', 'NIE']\n"
          ]
        }
      ]
    },
    {
      "cell_type": "code",
      "source": [
        "a = int(input(\"Podaj wartość liczbową: \"))\n",
        "b = int(input(\"Podaj wartość liczbową: \"))\n",
        "\n",
        "print(f\"1 wartość którą podałeś to: {a}\")\n",
        "print(f\"2 wartość którą podałeś to: {b}\")\n",
        "print(f\"Wynik dodawania tych dwu to: {a+b}\")"
      ],
      "metadata": {
        "colab": {
          "base_uri": "https://localhost:8080/",
          "height": 253
        },
        "id": "ThbjJrFcDs6P",
        "outputId": "5dae5941-1bcc-4c95-cf70-b781e2be98e7"
      },
      "execution_count": 71,
      "outputs": [
        {
          "name": "stdout",
          "output_type": "stream",
          "text": [
            "Podaj wartość liczbową: a\n"
          ]
        },
        {
          "output_type": "error",
          "ename": "ValueError",
          "evalue": "ignored",
          "traceback": [
            "\u001b[0;31m---------------------------------------------------------------------------\u001b[0m",
            "\u001b[0;31mValueError\u001b[0m                                Traceback (most recent call last)",
            "\u001b[0;32m<ipython-input-71-b54b334dffa6>\u001b[0m in \u001b[0;36m<module>\u001b[0;34m\u001b[0m\n\u001b[0;32m----> 1\u001b[0;31m \u001b[0ma\u001b[0m \u001b[0;34m=\u001b[0m \u001b[0mint\u001b[0m\u001b[0;34m(\u001b[0m\u001b[0minput\u001b[0m\u001b[0;34m(\u001b[0m\u001b[0;34m\"Podaj wartość liczbową: \"\u001b[0m\u001b[0;34m)\u001b[0m\u001b[0;34m)\u001b[0m\u001b[0;34m\u001b[0m\u001b[0;34m\u001b[0m\u001b[0m\n\u001b[0m\u001b[1;32m      2\u001b[0m \u001b[0mb\u001b[0m \u001b[0;34m=\u001b[0m \u001b[0mint\u001b[0m\u001b[0;34m(\u001b[0m\u001b[0minput\u001b[0m\u001b[0;34m(\u001b[0m\u001b[0;34m\"Podaj wartość liczbową: \"\u001b[0m\u001b[0;34m)\u001b[0m\u001b[0;34m)\u001b[0m\u001b[0;34m\u001b[0m\u001b[0;34m\u001b[0m\u001b[0m\n\u001b[1;32m      3\u001b[0m \u001b[0;34m\u001b[0m\u001b[0m\n\u001b[1;32m      4\u001b[0m \u001b[0mprint\u001b[0m\u001b[0;34m(\u001b[0m\u001b[0;34mf\"1 wartość którą podałeś to: {a}\"\u001b[0m\u001b[0;34m)\u001b[0m\u001b[0;34m\u001b[0m\u001b[0;34m\u001b[0m\u001b[0m\n\u001b[1;32m      5\u001b[0m \u001b[0mprint\u001b[0m\u001b[0;34m(\u001b[0m\u001b[0;34mf\"2 wartość którą podałeś to: {b}\"\u001b[0m\u001b[0;34m)\u001b[0m\u001b[0;34m\u001b[0m\u001b[0;34m\u001b[0m\u001b[0m\n",
            "\u001b[0;31mValueError\u001b[0m: invalid literal for int() with base 10: 'a'"
          ]
        }
      ]
    },
    {
      "cell_type": "code",
      "source": [
        "a = 5\n",
        "b = 0\n",
        "\n",
        "try:\n",
        "  c = a / b\n",
        "except:\n",
        "  print(\"wystąpił jakiś błąd\")"
      ],
      "metadata": {
        "colab": {
          "base_uri": "https://localhost:8080/"
        },
        "id": "LXm9BuGFEazX",
        "outputId": "5d26056e-3499-4980-df37-d6a27249cbd8"
      },
      "execution_count": 73,
      "outputs": [
        {
          "output_type": "stream",
          "name": "stdout",
          "text": [
            "wystąpił jakiś błąd\n"
          ]
        }
      ]
    },
    {
      "cell_type": "code",
      "source": [
        "a = 5\n",
        "b = 0\n",
        "\n",
        "try:\n",
        "  c = a / b\n",
        "except ZeroDivisionError as e:\n",
        "  print(f\"wystąpił błąd dzielenia przez zero: {e}\")"
      ],
      "metadata": {
        "colab": {
          "base_uri": "https://localhost:8080/"
        },
        "id": "XZk0uoC6EnhZ",
        "outputId": "2d5f65ba-e8a2-4db5-ea8a-4bd9d7b02e7b"
      },
      "execution_count": 74,
      "outputs": [
        {
          "output_type": "stream",
          "name": "stdout",
          "text": [
            "wystąpił błąd dzielenia przez zero: division by zero\n"
          ]
        }
      ]
    },
    {
      "cell_type": "code",
      "source": [
        "lista = ['1234', 0, 3j+5, 'kot', '101', 21421, 343.33]\n",
        "\n",
        "wyniki = []\n",
        "\n",
        "for wartosc in lista:\n",
        "  try:\n",
        "    wyniki.append(1 / wartosc)\n",
        "  except TypeError:\n",
        "    try: \n",
        "      wyniki.append(1 / float(wartosc))\n",
        "    except ValueError:\n",
        "      wyniki.append(f\"nie można podzielić 1 przez {wartosc} \")\n",
        "  except ZeroDivisionError:\n",
        "    wyniki.append(\"nie można dzielić przez zero\")\n",
        "  except ValueError:\n",
        "    wyniki.append(f\"nie można podzielić 1 przez {wartosc} \")\n",
        "\n",
        "print(wyniki)"
      ],
      "metadata": {
        "colab": {
          "base_uri": "https://localhost:8080/"
        },
        "id": "33W6EMFSE2JK",
        "outputId": "bb305cd4-327f-4fb4-c47a-6b0e09550b3c"
      },
      "execution_count": 79,
      "outputs": [
        {
          "output_type": "stream",
          "name": "stdout",
          "text": [
            "[0.0008103727714748784, 'nie można dzielić przez zero', (0.14705882352941177-0.08823529411764706j), 'nie można podzielić 1 przez kot ', 0.009900990099009901, 4.6683161383688904e-05, 0.0029126496373751204]\n"
          ]
        }
      ]
    },
    {
      "cell_type": "code",
      "source": [
        "while True:\n",
        "  x = None\n",
        "  try:\n",
        "    x = int(input(\"Proszę wprowadzić wartość liczbową: \"))\n",
        "  except ValueError:\n",
        "    print(f\"Sorry.... to nie jest prawidłowa wartość, spróbuj ponownie.... {x}\")\n",
        "  if x is not None:\n",
        "    break\n",
        "print(x)"
      ],
      "metadata": {
        "colab": {
          "base_uri": "https://localhost:8080/"
        },
        "id": "3-HMGDEOF--W",
        "outputId": "73c4de6d-69cf-4e0e-9db2-2a4ee6589ccb"
      },
      "execution_count": 85,
      "outputs": [
        {
          "output_type": "stream",
          "name": "stdout",
          "text": [
            "Proszę wprowadzić wartość liczbową: 0\n",
            "0\n"
          ]
        }
      ]
    },
    {
      "cell_type": "code",
      "source": [
        "def func():\n",
        "  print(\"Ala ma kota\")\n",
        "\n",
        "func()"
      ],
      "metadata": {
        "colab": {
          "base_uri": "https://localhost:8080/"
        },
        "id": "Sdp-FHmrJ2dL",
        "outputId": "98070a5d-860a-4d88-825e-18783099db0e"
      },
      "execution_count": 86,
      "outputs": [
        {
          "output_type": "stream",
          "name": "stdout",
          "text": [
            "Ala ma kota\n"
          ]
        }
      ]
    },
    {
      "cell_type": "code",
      "source": [
        "f = func\n",
        "\n",
        "print(id(func))\n",
        "print(id(f))"
      ],
      "metadata": {
        "colab": {
          "base_uri": "https://localhost:8080/"
        },
        "id": "h9Et2up7KAVL",
        "outputId": "fc196a6e-2358-48d8-ac03-ce451e1c4f06"
      },
      "execution_count": 91,
      "outputs": [
        {
          "output_type": "stream",
          "name": "stdout",
          "text": [
            "139648817598688\n",
            "139648817598688\n"
          ]
        }
      ]
    },
    {
      "cell_type": "code",
      "source": [
        "print(func)\n",
        "print(f)"
      ],
      "metadata": {
        "colab": {
          "base_uri": "https://localhost:8080/"
        },
        "id": "wr8gOxY3KF1A",
        "outputId": "a60c8898-efeb-455e-fc34-4c1020cc135a"
      },
      "execution_count": 90,
      "outputs": [
        {
          "output_type": "stream",
          "name": "stdout",
          "text": [
            "<function func at 0x7f02862a90e0>\n",
            "<function func at 0x7f02862a90e0>\n"
          ]
        }
      ]
    },
    {
      "cell_type": "code",
      "source": [
        "def g(f):\n",
        "  f()\n",
        "\n",
        "g(func)"
      ],
      "metadata": {
        "colab": {
          "base_uri": "https://localhost:8080/"
        },
        "id": "B_Oq06FOKbdL",
        "outputId": "c708b4b8-4091-4bd9-e0ed-ee5f146a9c75"
      },
      "execution_count": 92,
      "outputs": [
        {
          "output_type": "stream",
          "name": "stdout",
          "text": [
            "Ala ma kota\n"
          ]
        }
      ]
    },
    {
      "cell_type": "code",
      "source": [
        "def g(f):\n",
        "  print(\"Coś co będzie uruchomione przed funkcją\")\n",
        "  f()\n",
        "  print(\"Coś co będzie się działo po funkcji\")\n",
        "\n",
        "g(func)"
      ],
      "metadata": {
        "colab": {
          "base_uri": "https://localhost:8080/"
        },
        "id": "VtoR9-hXKl96",
        "outputId": "b6f202d8-252b-402a-9ab4-8e30932d9875"
      },
      "execution_count": 94,
      "outputs": [
        {
          "output_type": "stream",
          "name": "stdout",
          "text": [
            "Coś co będzie uruchomione przed funkcją\n",
            "Ala ma kota\n",
            "Coś co będzie się działo po funkcji\n"
          ]
        }
      ]
    },
    {
      "cell_type": "code",
      "source": [
        "def funkcja(f):\n",
        "  def wrapper():\n",
        "    '''\n",
        "    To jest funkcja otaczająca\n",
        "    '''\n",
        "    print(\"Coś co będzie uruchomione przed funkcją\")\n",
        "    f()\n",
        "    print(\"Coś co będzie się działo po funkcji\")\n",
        "  return wrapper"
      ],
      "metadata": {
        "id": "eK_UvjJgK1ri"
      },
      "execution_count": 100,
      "outputs": []
    },
    {
      "cell_type": "code",
      "source": [
        "def ala():\n",
        "  print(\"Ala ma kota\")\n",
        "\n",
        "f1 = funkcja(ala)\n",
        "\n",
        "f1()"
      ],
      "metadata": {
        "colab": {
          "base_uri": "https://localhost:8080/"
        },
        "id": "RP3p3itfLLw5",
        "outputId": "68ddc6cd-80f0-409e-f127-c0ab7cdba598"
      },
      "execution_count": 97,
      "outputs": [
        {
          "output_type": "stream",
          "name": "stdout",
          "text": [
            "Coś co będzie uruchomione przed funkcją\n",
            "Ala ma kota\n",
            "Coś co będzie się działo po funkcji\n"
          ]
        }
      ]
    },
    {
      "cell_type": "code",
      "source": [
        "@funkcja\n",
        "def basia():\n",
        "  '''\n",
        "  To jest funkcja basi\n",
        "  '''\n",
        "  print(\"Basia ma psa\")\n",
        "\n",
        "basia()\n",
        "\n",
        "print(basia.__name__)\n",
        "print(basia.__doc__)"
      ],
      "metadata": {
        "colab": {
          "base_uri": "https://localhost:8080/"
        },
        "id": "FcO9WAXOLb_M",
        "outputId": "62e7e148-2ccc-40c7-8c06-d7792063af07"
      },
      "execution_count": 101,
      "outputs": [
        {
          "output_type": "stream",
          "name": "stdout",
          "text": [
            "Coś co będzie uruchomione przed funkcją\n",
            "Basia ma psa\n",
            "Coś co będzie się działo po funkcji\n",
            "wrapper\n",
            "\n",
            "    To jest funkcja otaczająca\n",
            "    \n"
          ]
        }
      ]
    },
    {
      "cell_type": "code",
      "source": [
        "from functools import wraps\n",
        "\n",
        "def dekorator(f):\n",
        "  @wraps(f)\n",
        "  def wrapper():\n",
        "    '''\n",
        "    To jest funkcja otaczająca\n",
        "    '''\n",
        "    print(\"Coś co będzie uruchomione przed funkcją\")\n",
        "    f()\n",
        "    print(\"Coś co będzie się działo po funkcji\")\n",
        "  return wrapper"
      ],
      "metadata": {
        "id": "G30S-U9NMJ2w"
      },
      "execution_count": 102,
      "outputs": []
    },
    {
      "cell_type": "code",
      "source": [
        "@dekorator\n",
        "def basia():\n",
        "  '''\n",
        "  To jest funkcja basi\n",
        "  '''\n",
        "  print(\"Basia ma psa\")\n",
        "\n",
        "basia()\n",
        "\n",
        "print(basia.__name__)\n",
        "print(basia.__doc__)"
      ],
      "metadata": {
        "colab": {
          "base_uri": "https://localhost:8080/"
        },
        "id": "RiKsow3CMXVl",
        "outputId": "6c56fb98-cd49-4730-b31f-ccef7482a1bc"
      },
      "execution_count": 103,
      "outputs": [
        {
          "output_type": "stream",
          "name": "stdout",
          "text": [
            "Coś co będzie uruchomione przed funkcją\n",
            "Basia ma psa\n",
            "Coś co będzie się działo po funkcji\n",
            "basia\n",
            "\n",
            "  To jest funkcja basi\n",
            "  \n"
          ]
        }
      ]
    }
  ]
}