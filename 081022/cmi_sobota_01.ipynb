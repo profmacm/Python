{
  "nbformat": 4,
  "nbformat_minor": 0,
  "metadata": {
    "colab": {
      "provenance": [],
      "authorship_tag": "ABX9TyOxMK6YLzevsJvp2mU/uZnv",
      "include_colab_link": true
    },
    "kernelspec": {
      "name": "python3",
      "display_name": "Python 3"
    },
    "language_info": {
      "name": "python"
    }
  },
  "cells": [
    {
      "cell_type": "markdown",
      "metadata": {
        "id": "view-in-github",
        "colab_type": "text"
      },
      "source": [
        "<a href=\"https://colab.research.google.com/github/rroszczyk/Python/blob/master/081022/cmi_sobota_01.ipynb\" target=\"_parent\"><img src=\"https://colab.research.google.com/assets/colab-badge.svg\" alt=\"Open In Colab\"/></a>"
      ]
    },
    {
      "cell_type": "code",
      "execution_count": 1,
      "metadata": {
        "id": "w5ID9ddFJ4O7"
      },
      "outputs": [],
      "source": [
        "a = 100"
      ]
    },
    {
      "cell_type": "code",
      "source": [
        "!dir"
      ],
      "metadata": {
        "colab": {
          "base_uri": "https://localhost:8080/"
        },
        "id": "ELXfCVLLLKOu",
        "outputId": "5208b481-eda0-45fa-f90e-2ab625ffbe07"
      },
      "execution_count": 2,
      "outputs": [
        {
          "output_type": "stream",
          "name": "stdout",
          "text": [
            "sample_data\n"
          ]
        }
      ]
    },
    {
      "cell_type": "code",
      "source": [
        "!ls -all ~"
      ],
      "metadata": {
        "colab": {
          "base_uri": "https://localhost:8080/"
        },
        "id": "1D0TVefvLRME",
        "outputId": "059215ab-398d-44be-ff00-432fb3247ab7"
      },
      "execution_count": 4,
      "outputs": [
        {
          "output_type": "stream",
          "name": "stdout",
          "text": [
            "total 60\n",
            "drwx------ 1 root root 4096 Oct  6 16:29 .\n",
            "drwxr-xr-x 1 root root 4096 Oct  8 10:36 ..\n",
            "-r-xr-xr-x 1 root root 1169 Jan  1  2000 .bashrc\n",
            "drwxr-xr-x 1 root root 4096 Oct  6 13:19 .cache\n",
            "drwx------ 4 root root 4096 Oct  6 13:18 .config\n",
            "drwxr-xr-x 5 root root 4096 Oct  6 13:18 .ipython\n",
            "drwx------ 2 root root 4096 Oct  6 13:18 .jupyter\n",
            "drwxr-xr-x 2 root root 4096 Oct  5 13:46 .keras\n",
            "drwxr-xr-x 1 root root 4096 Oct  6 13:18 .local\n",
            "drwxr-xr-x 4 root root 4096 Oct  6 13:18 .npm\n",
            "-rw-r--r-- 1 root root  148 Aug 17  2015 .profile\n",
            "-r-xr-xr-x 1 root root  254 Jan  1  2000 .tmux.conf\n",
            "-rw-r--r-- 1 root root  165 Oct  6 13:18 .wget-hsts\n"
          ]
        }
      ]
    },
    {
      "cell_type": "code",
      "source": [
        "a = 256\n",
        "b = 0x100\n",
        "c = 0o400\n",
        "d = 0b100000000"
      ],
      "metadata": {
        "id": "c7hrv4IbL2Ks"
      },
      "execution_count": 11,
      "outputs": []
    },
    {
      "cell_type": "code",
      "source": [
        "print(a, b, c, d)"
      ],
      "metadata": {
        "colab": {
          "base_uri": "https://localhost:8080/"
        },
        "id": "zPqMXQ1zMkVj",
        "outputId": "cd569943-cfb4-41a0-cf29-9b7c237efde7"
      },
      "execution_count": 12,
      "outputs": [
        {
          "output_type": "stream",
          "name": "stdout",
          "text": [
            "256 256 256 256\n"
          ]
        }
      ]
    },
    {
      "cell_type": "code",
      "source": [
        "aa = 256.\n",
        "bb = 0.10\n",
        "cc = .10\n",
        "dd = 1e2\n",
        "print(aa, bb, cc, dd)"
      ],
      "metadata": {
        "colab": {
          "base_uri": "https://localhost:8080/"
        },
        "id": "ZcTH0qB7MujT",
        "outputId": "903649b9-31c0-44df-e439-32b84010de42"
      },
      "execution_count": 14,
      "outputs": [
        {
          "output_type": "stream",
          "name": "stdout",
          "text": [
            "256.0 0.1 0.1 100.0\n"
          ]
        }
      ]
    },
    {
      "cell_type": "code",
      "source": [
        "A = True\n",
        "B = False\n",
        "C = []\n",
        "D = None\n",
        "E = 0\n",
        "F = 1\n",
        "\n",
        "print(A == True)\n",
        "print(B == True)\n",
        "print(C == True)\n",
        "print(D == True)\n",
        "print(E == True)\n",
        "print(F == True)"
      ],
      "metadata": {
        "colab": {
          "base_uri": "https://localhost:8080/"
        },
        "id": "PhdtT6P4NGQy",
        "outputId": "04c9c2ab-2d84-43fe-9c97-6a7ab2f04cda"
      },
      "execution_count": 16,
      "outputs": [
        {
          "output_type": "stream",
          "name": "stdout",
          "text": [
            "True\n",
            "False\n",
            "False\n",
            "False\n",
            "False\n",
            "True\n"
          ]
        }
      ]
    },
    {
      "cell_type": "code",
      "source": [
        "print(type(A))\n",
        "print(type(B))\n",
        "print(type(C))\n",
        "print(type(D))\n",
        "print(type(E))\n",
        "print(type(F))"
      ],
      "metadata": {
        "colab": {
          "base_uri": "https://localhost:8080/"
        },
        "id": "fESGECHHNovC",
        "outputId": "675bdbe1-981f-4136-b093-d15455479a8b"
      },
      "execution_count": 19,
      "outputs": [
        {
          "output_type": "stream",
          "name": "stdout",
          "text": [
            "<class 'bool'>\n",
            "<class 'bool'>\n",
            "<class 'list'>\n",
            "<class 'NoneType'>\n",
            "<class 'int'>\n",
            "<class 'int'>\n"
          ]
        }
      ]
    },
    {
      "cell_type": "code",
      "source": [
        "a = 1000000\n",
        "b = 1000000\n",
        "c = 1000000\n",
        "print(id(a))\n",
        "print(id(b))\n",
        "print(id(c))\n",
        "e = 10\n",
        "f = 10\n",
        "print(id(e))\n",
        "print(id(f))\n",
        "\n",
        "a = 'ala'\n",
        "b = 'ala'\n",
        "print(id(a))\n",
        "print(id(b))"
      ],
      "metadata": {
        "colab": {
          "base_uri": "https://localhost:8080/"
        },
        "id": "peuf9P6QOHkB",
        "outputId": "d94f6ad5-211a-455f-910f-ee9f6871be34"
      },
      "execution_count": 26,
      "outputs": [
        {
          "output_type": "stream",
          "name": "stdout",
          "text": [
            "140183515279312\n",
            "140183515279280\n",
            "140183515278800\n",
            "11122880\n",
            "11122880\n",
            "140183515385520\n",
            "140183515385520\n"
          ]
        }
      ]
    },
    {
      "cell_type": "code",
      "source": [
        "type(a)"
      ],
      "metadata": {
        "colab": {
          "base_uri": "https://localhost:8080/"
        },
        "id": "XWyj9vUWPdp4",
        "outputId": "2e695cb7-a7ce-49b8-9f69-27287054d5fd"
      },
      "execution_count": 27,
      "outputs": [
        {
          "output_type": "execute_result",
          "data": {
            "text/plain": [
              "str"
            ]
          },
          "metadata": {},
          "execution_count": 27
        }
      ]
    },
    {
      "cell_type": "code",
      "source": [
        "a = 'ala'\n",
        "b = \"ala\"\n",
        "c = \"a'la\"\n",
        "print(c)\n",
        "c = 'a\\'la'\n",
        "print(c)\n",
        "d = '''To \n",
        "jest \n",
        "jakiś \n",
        "napis'''\n",
        "e = \"\"\"To jest jakiś napis\"\"\"\n",
        "\n",
        "\"\"\"To jest komentarz wielolinijkowy\"\"\""
      ],
      "metadata": {
        "colab": {
          "base_uri": "https://localhost:8080/",
          "height": 70
        },
        "id": "95KEnJKVPjkv",
        "outputId": "2c1da4be-842c-401f-e6b1-1203a50fc97e"
      },
      "execution_count": 33,
      "outputs": [
        {
          "output_type": "stream",
          "name": "stdout",
          "text": [
            "a'la\n",
            "a'la\n"
          ]
        },
        {
          "output_type": "execute_result",
          "data": {
            "text/plain": [
              "'To jest komentarz wielolinijkowy'"
            ],
            "application/vnd.google.colaboratory.intrinsic+json": {
              "type": "string"
            }
          },
          "metadata": {},
          "execution_count": 33
        }
      ]
    },
    {
      "cell_type": "code",
      "source": [
        "print(\"Ala ma kota\")"
      ],
      "metadata": {
        "colab": {
          "base_uri": "https://localhost:8080/"
        },
        "id": "NfTzwSLOQPsO",
        "outputId": "f912649e-6adb-4b79-b8cc-68942792e397"
      },
      "execution_count": 34,
      "outputs": [
        {
          "output_type": "stream",
          "name": "stdout",
          "text": [
            "Ala ma kota\n"
          ]
        }
      ]
    },
    {
      "cell_type": "code",
      "source": [
        "id(print)"
      ],
      "metadata": {
        "colab": {
          "base_uri": "https://localhost:8080/"
        },
        "id": "hNXMCwyAQUEO",
        "outputId": "3891280e-ef07-42ac-df5b-94df35475526"
      },
      "execution_count": 35,
      "outputs": [
        {
          "output_type": "execute_result",
          "data": {
            "text/plain": [
              "140184065677264"
            ]
          },
          "metadata": {},
          "execution_count": 35
        }
      ]
    },
    {
      "cell_type": "code",
      "source": [
        "drukuj = print"
      ],
      "metadata": {
        "id": "Tb2RoHQjQa2X"
      },
      "execution_count": 37,
      "outputs": []
    },
    {
      "cell_type": "code",
      "source": [
        "drukuj(\"Ala ma kota\")"
      ],
      "metadata": {
        "colab": {
          "base_uri": "https://localhost:8080/"
        },
        "id": "M8d7LfaMQfdu",
        "outputId": "ce2a1fe9-00c3-4338-f8bb-35a3b854b7f1"
      },
      "execution_count": 38,
      "outputs": [
        {
          "output_type": "stream",
          "name": "stdout",
          "text": [
            "Ala ma kota\n"
          ]
        }
      ]
    },
    {
      "cell_type": "code",
      "source": [
        "print(id(print))\n",
        "print(id(drukuj))"
      ],
      "metadata": {
        "colab": {
          "base_uri": "https://localhost:8080/"
        },
        "id": "C2L44uasQmSJ",
        "outputId": "cb166d83-e160-42be-b439-ce1a7720f87b"
      },
      "execution_count": 40,
      "outputs": [
        {
          "output_type": "stream",
          "name": "stdout",
          "text": [
            "140184065677264\n",
            "140184065677264\n"
          ]
        }
      ]
    },
    {
      "cell_type": "code",
      "source": [
        "print = 100"
      ],
      "metadata": {
        "id": "oCMUJ4xOQrHk"
      },
      "execution_count": 41,
      "outputs": []
    },
    {
      "cell_type": "code",
      "source": [
        "print(\"Ala ma kota\")"
      ],
      "metadata": {
        "colab": {
          "base_uri": "https://localhost:8080/",
          "height": 166
        },
        "id": "naarbpTNQuvd",
        "outputId": "95e1bb0e-15ef-4bd4-9d9e-c3fed1f00acf"
      },
      "execution_count": 42,
      "outputs": [
        {
          "output_type": "error",
          "ename": "TypeError",
          "evalue": "ignored",
          "traceback": [
            "\u001b[0;31m---------------------------------------------------------------------------\u001b[0m",
            "\u001b[0;31mTypeError\u001b[0m                                 Traceback (most recent call last)",
            "\u001b[0;32m<ipython-input-42-a928c33543da>\u001b[0m in \u001b[0;36m<module>\u001b[0;34m\u001b[0m\n\u001b[0;32m----> 1\u001b[0;31m \u001b[0mprint\u001b[0m\u001b[0;34m(\u001b[0m\u001b[0;34m\"Ala ma kota\"\u001b[0m\u001b[0;34m)\u001b[0m\u001b[0;34m\u001b[0m\u001b[0;34m\u001b[0m\u001b[0m\n\u001b[0m",
            "\u001b[0;31mTypeError\u001b[0m: 'int' object is not callable"
          ]
        }
      ]
    },
    {
      "cell_type": "code",
      "source": [
        "drukuj(\"Ala ma kota\")"
      ],
      "metadata": {
        "colab": {
          "base_uri": "https://localhost:8080/"
        },
        "id": "k2s0qgQZQysH",
        "outputId": "fc61e06e-a228-485a-ca73-1321920c0945"
      },
      "execution_count": 43,
      "outputs": [
        {
          "output_type": "stream",
          "name": "stdout",
          "text": [
            "Ala ma kota\n"
          ]
        }
      ]
    },
    {
      "cell_type": "code",
      "source": [
        "drukuj(print)"
      ],
      "metadata": {
        "colab": {
          "base_uri": "https://localhost:8080/"
        },
        "id": "N4tCjYbERCB9",
        "outputId": "88db9be6-9ff2-4805-e552-c168d979ac94"
      },
      "execution_count": 44,
      "outputs": [
        {
          "output_type": "stream",
          "name": "stdout",
          "text": [
            "100\n"
          ]
        }
      ]
    },
    {
      "cell_type": "code",
      "source": [
        "print = drukuj"
      ],
      "metadata": {
        "id": "KlF-hOrHRShZ"
      },
      "execution_count": 46,
      "outputs": []
    },
    {
      "cell_type": "code",
      "source": [
        "print(print.__doc__)"
      ],
      "metadata": {
        "colab": {
          "base_uri": "https://localhost:8080/"
        },
        "id": "cjD7aZbwRekM",
        "outputId": "2b86eff0-69dd-43f5-f9f3-e25882169475"
      },
      "execution_count": 52,
      "outputs": [
        {
          "output_type": "stream",
          "name": "stdout",
          "text": [
            "print(value, ..., sep=' ', end='\\n', file=sys.stdout, flush=False)\n",
            "\n",
            "Prints the values to a stream, or to sys.stdout by default.\n",
            "Optional keyword arguments:\n",
            "file:  a file-like object (stream); defaults to the current sys.stdout.\n",
            "sep:   string inserted between values, default a space.\n",
            "end:   string appended after the last value, default a newline.\n",
            "flush: whether to forcibly flush the stream.\n"
          ]
        }
      ]
    },
    {
      "cell_type": "code",
      "source": [
        "def moja_funkcja():\n",
        "  \"\"\"\n",
        "  To jest pomoc do mojej funkcji\n",
        "  ona nic nie robi tylko jest\n",
        "  \"\"\"\n",
        "  pass"
      ],
      "metadata": {
        "id": "jTfucv8oRv6l"
      },
      "execution_count": 53,
      "outputs": []
    },
    {
      "cell_type": "code",
      "source": [
        "def funkc1():\n",
        "  pass\n",
        "\n",
        "def funkc2():\n",
        "  pass\n",
        "\n",
        "funkc1()\n",
        "funkc2()"
      ],
      "metadata": {
        "id": "43w-9PhXSqBN"
      },
      "execution_count": 55,
      "outputs": []
    },
    {
      "cell_type": "code",
      "source": [
        "print('a', 'b', 'c', 'd', sep='-', end='*')\n",
        "print('a', 'b', 'c', 'd', sep='-')"
      ],
      "metadata": {
        "colab": {
          "base_uri": "https://localhost:8080/"
        },
        "id": "v2rL2MCwTAuM",
        "outputId": "6fae1659-5d71-4572-88e4-ff0026846cfd"
      },
      "execution_count": 63,
      "outputs": [
        {
          "output_type": "stream",
          "name": "stdout",
          "text": [
            "a-b-c-d*a-b-c-d\n"
          ]
        }
      ]
    },
    {
      "cell_type": "code",
      "source": [
        "a = range(1, 100, 3)\n",
        "print(list(a))"
      ],
      "metadata": {
        "colab": {
          "base_uri": "https://localhost:8080/"
        },
        "id": "v0XwFEkVTwHf",
        "outputId": "deaf096e-d261-45c5-cd11-96d9a6dcd63d"
      },
      "execution_count": 69,
      "outputs": [
        {
          "output_type": "stream",
          "name": "stdout",
          "text": [
            "[1, 4, 7, 10, 13, 16, 19, 22, 25, 28, 31, 34, 37, 40, 43, 46, 49, 52, 55, 58, 61, 64, 67, 70, 73, 76, 79, 82, 85, 88, 91, 94, 97]\n"
          ]
        }
      ]
    },
    {
      "cell_type": "code",
      "source": [
        "for i in range(1, 10):\n",
        "  print(i, end=' ')"
      ],
      "metadata": {
        "colab": {
          "base_uri": "https://localhost:8080/"
        },
        "id": "s5XS6fT7USEC",
        "outputId": "f390174a-ad02-4837-fd23-82aa6a4244ad"
      },
      "execution_count": 73,
      "outputs": [
        {
          "output_type": "stream",
          "name": "stdout",
          "text": [
            "1 2 3 4 5 6 7 8 9 "
          ]
        }
      ]
    },
    {
      "cell_type": "code",
      "source": [
        "l = []\n",
        "print(type(l))"
      ],
      "metadata": {
        "colab": {
          "base_uri": "https://localhost:8080/"
        },
        "id": "AW0RkjNkU2xJ",
        "outputId": "045bfb0d-1823-4282-8cf0-4e162fa09f70"
      },
      "execution_count": 75,
      "outputs": [
        {
          "output_type": "stream",
          "name": "stdout",
          "text": [
            "<class 'list'>\n"
          ]
        }
      ]
    },
    {
      "cell_type": "code",
      "source": [
        "l = ['a', 'b', 'c', 'd']\n",
        "print(l)\n",
        "\n",
        "for i in l:\n",
        "  print(i)"
      ],
      "metadata": {
        "colab": {
          "base_uri": "https://localhost:8080/"
        },
        "id": "TDaEWkj9VCFR",
        "outputId": "0b14a7dc-e4d1-4473-933b-c29d898aaec1"
      },
      "execution_count": 79,
      "outputs": [
        {
          "output_type": "stream",
          "name": "stdout",
          "text": [
            "['a', 'b', 'c', 'd']\n",
            "a\n",
            "b\n",
            "c\n",
            "d\n"
          ]
        }
      ]
    },
    {
      "cell_type": "code",
      "source": [
        "l1 = ['a', 'b', 1, 2, 'c', \"Napis\", l]\n",
        "print(l1)"
      ],
      "metadata": {
        "colab": {
          "base_uri": "https://localhost:8080/"
        },
        "id": "IQ9gHdCjVPtQ",
        "outputId": "509edc79-9a11-4f33-b0d4-4eee2894327e"
      },
      "execution_count": 80,
      "outputs": [
        {
          "output_type": "stream",
          "name": "stdout",
          "text": [
            "['a', 'b', 1, 2, 'c', 'Napis', ['a', 'b', 'c', 'd']]\n"
          ]
        }
      ]
    },
    {
      "cell_type": "code",
      "source": [
        "for i in l1:\n",
        "  print(i)"
      ],
      "metadata": {
        "colab": {
          "base_uri": "https://localhost:8080/"
        },
        "id": "QZfa0n8oVlW5",
        "outputId": "52ccfa31-085a-48d8-c68a-dda78f9095e7"
      },
      "execution_count": 81,
      "outputs": [
        {
          "output_type": "stream",
          "name": "stdout",
          "text": [
            "a\n",
            "b\n",
            "1\n",
            "2\n",
            "c\n",
            "Napis\n",
            "['a', 'b', 'c', 'd']\n"
          ]
        }
      ]
    },
    {
      "cell_type": "code",
      "source": [
        "print(l1[6][0])\n",
        "print(l1[5][0:3])"
      ],
      "metadata": {
        "colab": {
          "base_uri": "https://localhost:8080/"
        },
        "id": "nB2-ixYMVo5n",
        "outputId": "17c64047-408a-46d7-fe08-cc1336753a9d"
      },
      "execution_count": 100,
      "outputs": [
        {
          "output_type": "stream",
          "name": "stdout",
          "text": [
            "a\n",
            "Nap\n"
          ]
        }
      ]
    },
    {
      "cell_type": "code",
      "source": [
        "l = list(range(1, 10))\n",
        "print(l)\n",
        "\n",
        "print(l[0])\n",
        "print(l[-1])\n",
        "print(l[-2])\n",
        "print(l[2:5])\n",
        "\n",
        "z = l[2:5]\n",
        "print(type(z))"
      ],
      "metadata": {
        "colab": {
          "base_uri": "https://localhost:8080/"
        },
        "id": "Ez7K3KecV8Cr",
        "outputId": "305a8811-b066-4eb5-9eb8-2e053dcd8640"
      },
      "execution_count": 92,
      "outputs": [
        {
          "output_type": "stream",
          "name": "stdout",
          "text": [
            "[1, 2, 3, 4, 5, 6, 7, 8, 9]\n",
            "1\n",
            "9\n",
            "8\n",
            "[3, 4, 5]\n",
            "<class 'list'>\n"
          ]
        }
      ]
    },
    {
      "cell_type": "code",
      "source": [
        "Napis = 'Ala Ma Kota'\n",
        "print(Napis)\n",
        "\n",
        "print(Napis[0:3])\n",
        "print(Napis[4:6])\n",
        "print(Napis[-11:-5])\n",
        "print(Napis[:4:-1])"
      ],
      "metadata": {
        "colab": {
          "base_uri": "https://localhost:8080/"
        },
        "id": "UhJpxCnIWcIj",
        "outputId": "f3e36699-c8e8-49f5-80c4-7f9b6a6540ee"
      },
      "execution_count": 109,
      "outputs": [
        {
          "output_type": "stream",
          "name": "stdout",
          "text": [
            "Ala Ma Kota\n",
            "Ala\n",
            "Ma\n",
            "Ala Ma\n",
            "atoK a\n"
          ]
        }
      ]
    },
    {
      "cell_type": "code",
      "source": [
        "l = list(range(1, 10))\n",
        "\n",
        "print(l)\n",
        "\n",
        "l.remove(3)\n",
        "\n",
        "print(l)\n",
        "\n",
        "l.append(100)\n",
        "\n",
        "print(l)\n",
        "\n",
        "print(l.pop())\n",
        "\n",
        "print(l)\n",
        "\n",
        "print(l.pop(0))\n",
        "\n",
        "print(l)\n",
        "\n",
        "print(l.index(7))\n",
        "print(l.pop(l.index(7)))  # <-> l.remove(7)\n",
        "\n",
        "print(l)"
      ],
      "metadata": {
        "colab": {
          "base_uri": "https://localhost:8080/"
        },
        "id": "-ZjZYKoDXyRu",
        "outputId": "93b96241-176a-4623-ad61-7dac1c00ff95"
      },
      "execution_count": 118,
      "outputs": [
        {
          "output_type": "stream",
          "name": "stdout",
          "text": [
            "[1, 2, 3, 4, 5, 6, 7, 8, 9]\n",
            "[1, 2, 4, 5, 6, 7, 8, 9]\n",
            "[1, 2, 4, 5, 6, 7, 8, 9, 100]\n",
            "100\n",
            "[1, 2, 4, 5, 6, 7, 8, 9]\n",
            "1\n",
            "[2, 4, 5, 6, 7, 8, 9]\n",
            "4\n",
            "7\n",
            "[2, 4, 5, 6, 8, 9]\n"
          ]
        }
      ]
    },
    {
      "cell_type": "code",
      "source": [
        "k = ('a', 'b', 'c', 'd', 'e')\n",
        "\n",
        "print(type(k))\n",
        "print(k)"
      ],
      "metadata": {
        "colab": {
          "base_uri": "https://localhost:8080/"
        },
        "id": "ii6O0lMtZho8",
        "outputId": "81f809fc-6a67-40a4-bf25-3c60207ab157"
      },
      "execution_count": 119,
      "outputs": [
        {
          "output_type": "stream",
          "name": "stdout",
          "text": [
            "<class 'tuple'>\n",
            "('a', 'b', 'c', 'd', 'e')\n"
          ]
        }
      ]
    },
    {
      "cell_type": "code",
      "source": [
        "print(k[2:5])\n",
        "print(k[-1])"
      ],
      "metadata": {
        "colab": {
          "base_uri": "https://localhost:8080/"
        },
        "id": "8Zx5MvXsZxkT",
        "outputId": "1e4ac793-5296-4da9-8baf-557a5aa655c8"
      },
      "execution_count": 122,
      "outputs": [
        {
          "output_type": "stream",
          "name": "stdout",
          "text": [
            "('c', 'd', 'e')\n",
            "e\n"
          ]
        }
      ]
    },
    {
      "cell_type": "code",
      "source": [
        "k = ('abc', 'a', 3, None, l, print)\n",
        "print(k)\n",
        "\n",
        "l = ['abc', 'a', 3, None, l, print]\n",
        "print(l)\n",
        "\n",
        "#k[1] = 'b'    # zwraca błąd - krotka jest tylko do odczytu\n",
        "l[1] = 'b'\n",
        "\n",
        "print(k)\n",
        "print(l)"
      ],
      "metadata": {
        "colab": {
          "base_uri": "https://localhost:8080/"
        },
        "id": "CDTbk7cAZ5Dr",
        "outputId": "b9b96e4b-4637-4792-f29e-901cb0f8e8a9"
      },
      "execution_count": 129,
      "outputs": [
        {
          "output_type": "stream",
          "name": "stdout",
          "text": [
            "('abc', 'a', 3, None, ['abc', 'b', 3, None, ['abc', 'b', 3, None, ['abc', 'b', 3, None, ['abc', 'a', 3, None, ['abc', 'a', 3, None, [2, 4, 5, 6, 8, 9], <built-in function print>], <built-in function print>], <built-in function print>], <built-in function print>], <built-in function print>], <built-in function print>)\n",
            "['abc', 'a', 3, None, ['abc', 'b', 3, None, ['abc', 'b', 3, None, ['abc', 'b', 3, None, ['abc', 'a', 3, None, ['abc', 'a', 3, None, [2, 4, 5, 6, 8, 9], <built-in function print>], <built-in function print>], <built-in function print>], <built-in function print>], <built-in function print>], <built-in function print>]\n",
            "('abc', 'a', 3, None, ['abc', 'b', 3, None, ['abc', 'b', 3, None, ['abc', 'b', 3, None, ['abc', 'a', 3, None, ['abc', 'a', 3, None, [2, 4, 5, 6, 8, 9], <built-in function print>], <built-in function print>], <built-in function print>], <built-in function print>], <built-in function print>], <built-in function print>)\n",
            "['abc', 'b', 3, None, ['abc', 'b', 3, None, ['abc', 'b', 3, None, ['abc', 'b', 3, None, ['abc', 'a', 3, None, ['abc', 'a', 3, None, [2, 4, 5, 6, 8, 9], <built-in function print>], <built-in function print>], <built-in function print>], <built-in function print>], <built-in function print>], <built-in function print>]\n"
          ]
        }
      ]
    },
    {
      "cell_type": "code",
      "source": [
        "slownik = {1:'jeden', 2:'dwa', 3:'trzy', 4:\"cztery\"}\n",
        "\n",
        "print(type(slownik))\n",
        "print(slownik)"
      ],
      "metadata": {
        "colab": {
          "base_uri": "https://localhost:8080/"
        },
        "id": "akESgFocagON",
        "outputId": "828f6ce5-4c47-47d5-c7ff-0ca7cbdb3540"
      },
      "execution_count": 130,
      "outputs": [
        {
          "output_type": "stream",
          "name": "stdout",
          "text": [
            "<class 'dict'>\n",
            "{1: 'jeden', 2: 'dwa', 3: 'trzy', 4: 'cztery'}\n"
          ]
        }
      ]
    },
    {
      "cell_type": "code",
      "source": [
        "print(slownik[1])"
      ],
      "metadata": {
        "colab": {
          "base_uri": "https://localhost:8080/"
        },
        "id": "vH-dBVPjayfb",
        "outputId": "46ff9724-fdd3-49bb-d183-66dacceb3637"
      },
      "execution_count": 131,
      "outputs": [
        {
          "output_type": "stream",
          "name": "stdout",
          "text": [
            "jeden\n"
          ]
        }
      ]
    },
    {
      "cell_type": "code",
      "source": [
        "for z in slownik.values():\n",
        "  print(z)"
      ],
      "metadata": {
        "colab": {
          "base_uri": "https://localhost:8080/"
        },
        "id": "cyCyVpy4a3rD",
        "outputId": "92152132-9ae6-49ba-b11d-49da533fb358"
      },
      "execution_count": 134,
      "outputs": [
        {
          "output_type": "stream",
          "name": "stdout",
          "text": [
            "jeden\n",
            "dwa\n",
            "trzy\n",
            "cztery\n"
          ]
        }
      ]
    },
    {
      "cell_type": "code",
      "source": [
        "for z in slownik.items():\n",
        "  print(z)"
      ],
      "metadata": {
        "colab": {
          "base_uri": "https://localhost:8080/"
        },
        "id": "Ew5vO_NJbJ1T",
        "outputId": "7620b9c5-ab4a-417a-c2e7-afd76306e722"
      },
      "execution_count": 135,
      "outputs": [
        {
          "output_type": "stream",
          "name": "stdout",
          "text": [
            "(1, 'jeden')\n",
            "(2, 'dwa')\n",
            "(3, 'trzy')\n",
            "(4, 'cztery')\n"
          ]
        }
      ]
    },
    {
      "cell_type": "code",
      "source": [
        "for k, v in slownik.items():\n",
        "  print(f\"{k}:{v}\")"
      ],
      "metadata": {
        "colab": {
          "base_uri": "https://localhost:8080/"
        },
        "id": "_s4MpUtRbRlG",
        "outputId": "b676978f-ddb5-4666-d80f-2bf769317b39"
      },
      "execution_count": 136,
      "outputs": [
        {
          "output_type": "stream",
          "name": "stdout",
          "text": [
            "1:jeden\n",
            "2:dwa\n",
            "3:trzy\n",
            "4:cztery\n"
          ]
        }
      ]
    },
    {
      "cell_type": "code",
      "source": [
        "def dodaj(a, b):\n",
        "  wynik = a + b\n",
        "  return wynik, a, b\n",
        "\n",
        "def dod(a, b):\n",
        "  wynik = a + b\n",
        "  return wynik\n",
        "\n",
        "def dodaj_l(a, b):\n",
        "  wynik = a + b\n",
        "  l = [wynik, a, b]\n",
        "  return l"
      ],
      "metadata": {
        "id": "A1bk5SnjcygT"
      },
      "execution_count": 141,
      "outputs": []
    },
    {
      "cell_type": "code",
      "source": [
        "print(dodaj(10, 20))\n",
        "print(dod(10, 20))\n",
        "print(dodaj_l(10, 20))"
      ],
      "metadata": {
        "colab": {
          "base_uri": "https://localhost:8080/"
        },
        "id": "ELjjT8codJPb",
        "outputId": "64fbdacd-8acf-44d5-e4e0-52c51443b4e2"
      },
      "execution_count": 142,
      "outputs": [
        {
          "output_type": "stream",
          "name": "stdout",
          "text": [
            "(30, 10, 20)\n",
            "30\n",
            "[30, 10, 20]\n"
          ]
        }
      ]
    },
    {
      "cell_type": "code",
      "source": [
        "wynik, a, b = dodaj(10, 20)\n",
        "print(wynik, a, b)"
      ],
      "metadata": {
        "colab": {
          "base_uri": "https://localhost:8080/"
        },
        "id": "Lkz214O2d0pn",
        "outputId": "418ba178-e44e-44b4-ba17-fac5b33bc908"
      },
      "execution_count": 144,
      "outputs": [
        {
          "output_type": "stream",
          "name": "stdout",
          "text": [
            "30 10 20\n"
          ]
        }
      ]
    },
    {
      "cell_type": "code",
      "source": [
        "def dodaj(a, b):\n",
        "  return a + b\n",
        "\n",
        "print(dodaj(10, 4))\n",
        "#print(dodaj()) -> będzie błąd"
      ],
      "metadata": {
        "colab": {
          "base_uri": "https://localhost:8080/",
          "height": 218
        },
        "id": "Liayg9i5eJ-e",
        "outputId": "dac66ad0-4f1e-4e61-ced3-d0ad20698be2"
      },
      "execution_count": 155,
      "outputs": [
        {
          "output_type": "stream",
          "name": "stdout",
          "text": [
            "14\n"
          ]
        },
        {
          "output_type": "error",
          "ename": "TypeError",
          "evalue": "ignored",
          "traceback": [
            "\u001b[0;31m---------------------------------------------------------------------------\u001b[0m",
            "\u001b[0;31mTypeError\u001b[0m                                 Traceback (most recent call last)",
            "\u001b[0;32m<ipython-input-155-fc2c148129cf>\u001b[0m in \u001b[0;36m<module>\u001b[0;34m\u001b[0m\n\u001b[1;32m      3\u001b[0m \u001b[0;34m\u001b[0m\u001b[0m\n\u001b[1;32m      4\u001b[0m \u001b[0mprint\u001b[0m\u001b[0;34m(\u001b[0m\u001b[0mdodaj\u001b[0m\u001b[0;34m(\u001b[0m\u001b[0;36m10\u001b[0m\u001b[0;34m,\u001b[0m \u001b[0;36m4\u001b[0m\u001b[0;34m)\u001b[0m\u001b[0;34m)\u001b[0m\u001b[0;34m\u001b[0m\u001b[0;34m\u001b[0m\u001b[0m\n\u001b[0;32m----> 5\u001b[0;31m \u001b[0mprint\u001b[0m\u001b[0;34m(\u001b[0m\u001b[0mdodaj\u001b[0m\u001b[0;34m(\u001b[0m\u001b[0;34m)\u001b[0m\u001b[0;34m)\u001b[0m\u001b[0;34m\u001b[0m\u001b[0;34m\u001b[0m\u001b[0m\n\u001b[0m",
            "\u001b[0;31mTypeError\u001b[0m: dodaj() missing 2 required positional arguments: 'a' and 'b'"
          ]
        }
      ]
    },
    {
      "cell_type": "code",
      "source": [
        "def dodaj3(a, b, c):\n",
        "  return a + b + c\n",
        "\n",
        "print(dodaj3(10, 4, 2))"
      ],
      "metadata": {
        "colab": {
          "base_uri": "https://localhost:8080/"
        },
        "id": "6VXnIkiAeU9G",
        "outputId": "3a4e8833-32d5-4482-ad30-64b1f3dd572a"
      },
      "execution_count": 147,
      "outputs": [
        {
          "output_type": "stream",
          "name": "stdout",
          "text": [
            "16\n"
          ]
        }
      ]
    },
    {
      "cell_type": "code",
      "source": [
        "def dodaj(*liczby):\n",
        "  suma = 0\n",
        "  for i in liczby:\n",
        "    suma += i\n",
        "  return suma"
      ],
      "metadata": {
        "id": "oxkWmgg-eZoo"
      },
      "execution_count": 150,
      "outputs": []
    },
    {
      "cell_type": "code",
      "source": [
        "print(dodaj(10, 20, 30))"
      ],
      "metadata": {
        "colab": {
          "base_uri": "https://localhost:8080/"
        },
        "id": "SPcLAXueef-n",
        "outputId": "8fdb7d5e-ebcb-401e-ed66-d8492ef5cefc"
      },
      "execution_count": 151,
      "outputs": [
        {
          "output_type": "stream",
          "name": "stdout",
          "text": [
            "60\n"
          ]
        }
      ]
    },
    {
      "cell_type": "code",
      "source": [
        "def dodaj(*liczby, wiekszaOd10 = False):\n",
        "  suma = 0\n",
        "  for i in liczby:\n",
        "    if not wiekszaOd10:\n",
        "      suma += i\n",
        "    else:\n",
        "      if i > 10:\n",
        "        suma += i\n",
        "  return suma"
      ],
      "metadata": {
        "id": "3yRtTeUKe4Md"
      },
      "execution_count": 152,
      "outputs": []
    },
    {
      "cell_type": "code",
      "source": [
        "def dodaj(a = 0, b = 0):\n",
        "  print(f\"{a} + {b} = {a+b}\")\n",
        "  return a + b\n",
        "\n",
        "print(dodaj())\n",
        "print(dodaj(b = 100))\n",
        "print(dodaj(10, 20))"
      ],
      "metadata": {
        "colab": {
          "base_uri": "https://localhost:8080/"
        },
        "id": "IeFCBN00fpPM",
        "outputId": "b77a7c9c-26b0-4a10-a0db-df7897799423"
      },
      "execution_count": 156,
      "outputs": [
        {
          "output_type": "stream",
          "name": "stdout",
          "text": [
            "0 + 0 = 0\n",
            "0\n",
            "0 + 100 = 100\n",
            "100\n",
            "10 + 20 = 30\n",
            "30\n"
          ]
        }
      ]
    },
    {
      "cell_type": "code",
      "source": [
        "def dodaj(*liczby):\n",
        "  suma = 0\n",
        "  for i in liczby:\n",
        "    suma += i\n",
        "  return suma\n",
        "\n",
        "print(dodaj(10, 20, 30))\n",
        "#print(dodaj(10, 20, 30, wiekszaOd10=True))"
      ],
      "metadata": {
        "colab": {
          "base_uri": "https://localhost:8080/"
        },
        "id": "U8W5_h5qfJlH",
        "outputId": "038e4cb4-e2ba-413a-a5ed-ecb24846a146"
      },
      "execution_count": 159,
      "outputs": [
        {
          "output_type": "stream",
          "name": "stdout",
          "text": [
            "60\n"
          ]
        }
      ]
    },
    {
      "cell_type": "code",
      "source": [
        "print(moja_funkcja.__doc__)"
      ],
      "metadata": {
        "colab": {
          "base_uri": "https://localhost:8080/"
        },
        "id": "H6tmbnj9R8YE",
        "outputId": "6e7f2eb1-9dd2-4c2f-9186-f9bc16c3e1f6"
      },
      "execution_count": 54,
      "outputs": [
        {
          "output_type": "stream",
          "name": "stdout",
          "text": [
            "\n",
            "  To jest pomoc do mojej funkcji\n",
            "  ona nic nie robi tylko jest\n",
            "  \n"
          ]
        }
      ]
    },
    {
      "cell_type": "code",
      "source": [
        "dir()"
      ],
      "metadata": {
        "colab": {
          "base_uri": "https://localhost:8080/"
        },
        "id": "mFIa61HYL_OE",
        "outputId": "b4ca67cd-eeba-4e98-e0bb-32af2a9e36ab"
      },
      "execution_count": 9,
      "outputs": [
        {
          "output_type": "execute_result",
          "data": {
            "text/plain": [
              "['In',\n",
              " 'Out',\n",
              " '_',\n",
              " '_6',\n",
              " '_7',\n",
              " '__',\n",
              " '___',\n",
              " '__builtin__',\n",
              " '__builtins__',\n",
              " '__doc__',\n",
              " '__loader__',\n",
              " '__name__',\n",
              " '__package__',\n",
              " '__spec__',\n",
              " '_dh',\n",
              " '_exit_code',\n",
              " '_i',\n",
              " '_i1',\n",
              " '_i2',\n",
              " '_i3',\n",
              " '_i4',\n",
              " '_i5',\n",
              " '_i6',\n",
              " '_i7',\n",
              " '_i8',\n",
              " '_i9',\n",
              " '_ih',\n",
              " '_ii',\n",
              " '_iii',\n",
              " '_oh',\n",
              " 'a',\n",
              " 'b',\n",
              " 'exit',\n",
              " 'get_ipython',\n",
              " 'quit']"
            ]
          },
          "metadata": {},
          "execution_count": 9
        }
      ]
    }
  ]
}