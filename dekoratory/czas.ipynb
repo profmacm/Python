{
  "nbformat": 4,
  "nbformat_minor": 0,
  "metadata": {
    "colab": {
      "name": "czas.ipynb",
      "provenance": [],
      "authorship_tag": "ABX9TyNUebl5ME5Fn/Q6RUeoWG4T",
      "include_colab_link": true
    },
    "kernelspec": {
      "name": "python3",
      "display_name": "Python 3"
    },
    "language_info": {
      "name": "python"
    }
  },
  "cells": [
    {
      "cell_type": "markdown",
      "metadata": {
        "id": "view-in-github",
        "colab_type": "text"
      },
      "source": [
        "<a href=\"https://colab.research.google.com/github/rroszczyk/Python/blob/master/dekoratory/czas.ipynb\" target=\"_parent\"><img src=\"https://colab.research.google.com/assets/colab-badge.svg\" alt=\"Open In Colab\"/></a>"
      ]
    },
    {
      "cell_type": "code",
      "execution_count": 1,
      "metadata": {
        "colab": {
          "base_uri": "https://localhost:8080/"
        },
        "id": "WSkQYoapDNKZ",
        "outputId": "f5b768d1-3de7-466b-ab0c-7e971b01ce52"
      },
      "outputs": [
        {
          "output_type": "stream",
          "name": "stdout",
          "text": [
            "I'm executing 1 method\n",
            "I'm executing 2 method\n",
            "I'm executing 1 method\n",
            "I'm executing 2 method\n",
            "[('m1', 0.20069456100463867), ('m2', 1.001633644104004), ('m1', 0.2006983757019043), ('m2', 1.0016889572143555), ('suma wszystkich czasów', 2.4047155380249023)]\n",
            "I'm executing 3 method\n",
            "m3 0.6031694412231445\n"
          ]
        }
      ],
      "source": [
        "import time\n",
        "import inspect\n",
        "\n",
        "class speed(object):\n",
        "\n",
        "    def __init__(self, cnt = 1):\n",
        "      self.times = []\n",
        "      self.cnt = cnt\n",
        "      self.sum = 0\n",
        "\n",
        "    def wrapper(self, function, isClass):\n",
        "      def wrap(*args, **kw):\n",
        "        startTime = time.time()\n",
        "        if isClass:\n",
        "          function(self)\n",
        "          endTime = time.time()\n",
        "          measured = (endTime - startTime) * self.cnt\n",
        "          self.times.append((function.__name__, measured))\n",
        "          self.sum += measured\n",
        "        else:\n",
        "          function()\n",
        "          endTime = time.time()\n",
        "          measured = (endTime - startTime) * self.cnt\n",
        "          print(f\"{function.__name__} {measured}\")\n",
        "      return wrap\n",
        "\n",
        "    def __call__(self, *args):\n",
        "        self.decorated_obj = args[0]\n",
        "        self.isClass = inspect.isclass(self.decorated_obj)\n",
        "        if(self.isClass):\n",
        "          for name, fn in inspect.getmembers(self.decorated_obj, inspect.isfunction):\n",
        "            setattr(self.decorated_obj, name, self.wrapper(fn, self.isClass))\n",
        "          setattr(self.decorated_obj, \"getResults\", self.getResults)\n",
        "          return self.decorated_obj\n",
        "        else:\n",
        "          return self.wrapper(self.decorated_obj, self.isClass)\n",
        "\n",
        "    def getResults(self):\n",
        "        self.times.append((\"suma wszystkich czasów\", self.sum))\n",
        "        return self.times\n",
        "\n",
        "\n",
        "@speed(cnt = 2)\n",
        "class mainFunction:\n",
        "  def m1(self):\n",
        "    time.sleep(0.1)\n",
        "    print(\"I'm executing 1 method\")\n",
        "\n",
        "  def m2(self):\n",
        "    time.sleep(0.5)\n",
        "    print(\"I'm executing 2 method\")\n",
        "\n",
        "@speed(cnt = 2)\n",
        "def m3():\n",
        "  time.sleep(0.3)\n",
        "  print(\"I'm executing 3 method\")\n",
        "\n",
        "mF = mainFunction()\n",
        "mF.m1()\n",
        "mF.m2()\n",
        "mF.m1()\n",
        "mF.m2()\n",
        "print(mF.getResults())\n",
        "\n",
        "m3()"
      ]
    }
  ]
}